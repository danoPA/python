{
 "cells": [
  {
   "cell_type": "code",
   "execution_count": 3,
   "metadata": {
    "collapsed": false
   },
   "outputs": [
    {
     "name": "stdout",
     "output_type": "stream",
     "text": [
      "C:\\Users\\Shawn\\csc478\\newsgroups\n"
     ]
    }
   ],
   "source": [
    "cd csc478\\newsgroups"
   ]
  },
  {
   "cell_type": "code",
   "execution_count": 14,
   "metadata": {
    "collapsed": true
   },
   "outputs": [],
   "source": [
    "import numpy as np\n",
    "import pylab as pl\n",
    "from numpy import *\n",
    "import operator\n",
    "import matplotlib.pyplot as plt"
   ]
  },
  {
   "cell_type": "code",
   "execution_count": 15,
   "metadata": {
    "collapsed": true
   },
   "outputs": [],
   "source": [
    "# Star of question a. \n",
    "# Create your own KNN classifier. Your classifier should allow as input the training data matrix, the training labels, \n",
    "# the instance to be classified, the value of K, and should return the predicted class for the instance and the top K\n",
    "# neighbors. Your classifier should work with Euclidean distance as well as Cosine Similarity (see class examples).\n",
    "# You may create two separate classifiers, or add this capability as a parameter for the classifier function.\n",
    "def classify(inX, dataSet, labels, k, distance):\n",
    "    if distance == 'Euclidean':\n",
    "        dataSetSize = dataSet.shape[0]\n",
    "        diffMat = tile(inX, (dataSetSize,1)) - dataSet\n",
    "        sqDiffMat = diffMat**2\n",
    "        sqDistances = sqDiffMat.sum(axis=1)\n",
    "        distances = sqDistances**0.5\n",
    "    elif distance == 'Cosine':\n",
    "        D_norm = array([linalg.norm(dataSet[i]) for i in range(len(dataSet))])\n",
    "        x_norm = linalg.norm(inX)\n",
    "        sims = dot(dataSet,inX)/(D_norm * x_norm)\n",
    "        distances = 1 - sims\n",
    "    else:\n",
    "        return '', 0\n",
    "    idx = np.argsort(distances)\n",
    "    classCount={}\n",
    "    for i in range(k):\n",
    "        votelabel = labels[idx[i]]\n",
    "        classCount[votelabel] = classCount.get(votelabel,0) + 1\n",
    "    sortedClassCount = sorted(classCount.iteritems(), key=operator.itemgetter(1), reverse=True)\n",
    "    return sortedClassCount[0][0], idx[0:k]"
   ]
  },
  {
   "cell_type": "code",
   "execution_count": 16,
   "metadata": {
    "collapsed": true
   },
   "outputs": [],
   "source": [
    "# End of question a.\n",
    "\n",
    "# Start of question b.\n",
    "# Create a function to compute the classification accuracy over the test data set (ratio of correct predictions to\n",
    "# the number of test instances). This function will call the classifier function on all the test instances and in\n",
    "# each case compares the actual test class label to the predicted class label.\n",
    "def accuracy(testDataSet, testLabelsSet, trainDataSet, trainLabelsSet, k, distance):\n",
    "    crctNum = 0.0\n",
    "    for idx in range(testDataSet.shape[0]):\n",
    "        label, topK = classify(testDataSet[idx], trainDataSet, trainLabelsSet, k, distance)\n",
    "        if(label == testLabelsSet[idx]):\n",
    "            crctNum += 1.0\n",
    "            #print crctNum\n",
    "    return crctNum/testDataSet.shape[0]"
   ]
  },
  {
   "cell_type": "code",
   "execution_count": 12,
   "metadata": {
    "collapsed": false
   },
   "outputs": [
    {
     "name": "stdout",
     "output_type": "stream",
     "text": [
      "(800L, 5500L) (200L, 5500L)\n"
     ]
    }
   ],
   "source": [
    "# End of question b.\n",
    "\n",
    "# Start of question c.\n",
    "# Run your accuracy function on a range of values for K in order to compare accuracy values for different numbers of\n",
    "# neighbors. Do this both using Euclidean Distance as well as Cosine similarity measure. [For example, you can try\n",
    "# evaluating your classifiers on a range of values of K from 1 through 20 and present the results as a table or a graph].\n",
    "\n",
    "# Load data\n",
    "termsData = np.genfromtxt(\"modifiedterms.txt\", delimiter=\"\\t\", dtype=None)\n",
    "label = ['Windows', 'Hockey']\n",
    " \n",
    "trainData = np.genfromtxt(\"trainMatrixModified.txt\", delimiter=\"\\t\", dtype=None).T\n",
    "trainClasses = np.genfromtxt(\"trainClasses.txt\", delimiter=\"\\t\", dtype=None)\n",
    "trainLabels = np.array([label[i] for i in trainClasses[:,1]])\n",
    " \n",
    "testData = np.genfromtxt(\"testMatrixModified.txt\", delimiter=\"\\t\", dtype=None).T\n",
    "testClasses = np.genfromtxt(\"testClasses.txt\", delimiter=\"\\t\", dtype=None)\n",
    "testLabels = np.array([label[i] for i in testClasses[:,1]])\n",
    "\n",
    "print trainData.shape, testData.shape"
   ]
  },
  {
   "cell_type": "code",
   "execution_count": 19,
   "metadata": {
    "collapsed": false
   },
   "outputs": [
    {
     "name": "stdout",
     "output_type": "stream",
     "text": [
      "[0.78, 0.785, 0.81, 0.77, 0.815, 0.745, 0.765, 0.73, 0.75, 0.705, 0.795, 0.725, 0.775, 0.74, 0.785, 0.73, 0.76, 0.725, 0.74]\n",
      "[0.985, 0.96, 0.97, 0.965, 0.97, 0.98, 0.98, 0.97, 0.975, 0.975, 0.98, 0.97, 0.98, 0.97, 0.985, 0.975, 0.975, 0.975, 0.975]\n"
     ]
    }
   ],
   "source": [
    "accuEuclidean = [accuracy(testData, testLabels, trainData, trainLabels, k, 'Euclidean') for k in range(1,20)]\n",
    "accuCosine = [accuracy(testData, testLabels, trainData, trainLabels, k, 'Cosine') for k in range(1, 20)]\n",
    "\n",
    "print accuEuclidean\n",
    "print accuCosine"
   ]
  },
  {
   "cell_type": "code",
   "execution_count": 22,
   "metadata": {
    "collapsed": false
   },
   "outputs": [
    {
     "data": {
      "image/png": "[encoded data removed]",
      "text/plain": [
       "<matplotlib.figure.Figure at 0x7514cc0>"
      ]
     },
     "metadata": {},
     "output_type": "display_data"
    }
   ],
   "source": [
    "%matplotlib inline\n",
    "X = np.array(range(1,20))\n",
    "plt.subplot(121)\n",
    "plt.plot(X, np.array((accuEuclidean)))\n",
    "plt.ylabel('Euclidean Accuracy')\n",
    "plt.subplot(122)\n",
    "plt.plot(X, np.array((accuCosine)))\n",
    "plt.ylabel('Cosine Accuracy')\n",
    "plt.show()"
   ]
  },
  {
   "cell_type": "code",
   "execution_count": 29,
   "metadata": {
    "collapsed": false
   },
   "outputs": [
    {
     "data": {
      "text/plain": [
       "array([[ 800.,  800.,  800., ...,  800.,  800.,  800.],\n",
       "       [ 800.,  800.,  800., ...,  800.,  800.,  800.],\n",
       "       [ 800.,  800.,  800., ...,  800.,  800.,  800.],\n",
       "       ..., \n",
       "       [ 800.,  800.,  800., ...,  800.,  800.,  800.],\n",
       "       [ 800.,  800.,  800., ...,  800.,  800.,  800.],\n",
       "       [ 800.,  800.,  800., ...,  800.,  800.,  800.]])"
      ]
     },
     "execution_count": 29,
     "metadata": {},
     "output_type": "execute_result"
    }
   ],
   "source": [
    "# End of question c.\n",
    "\n",
    "# Start of question d.\n",
    "# Using Python, modify the training and test data sets so that term weights are converted to TFxIDF weights (instead of\n",
    "# raw term frequencies). [See class notes on Text Categorization]. Then, rerun your evaluation on the range of K values\n",
    "# (as above) and compare the results to the results without using TFxIDF weights.\n",
    "\n",
    "trainData2 = np.genfromtxt(\"trainMatrixModified.txt\", delimiter=\"\\t\", dtype=None)\n",
    "testData2 = np.genfromtxt(\"testMatrixModified.txt\", delimiter=\"\\t\", dtype=None)\n",
    "\n",
    "terms = np.shape(trainData)[0]\n",
    "DF = array([(trainData2 != 0).sum(1)]).T\n",
    "N = np.shape(trainData2)[1]\n",
    "NMatrix = np.ones(np.shape(trainData2), dtype = float) * N\n",
    "NMatrix"
   ]
  },
  {
   "cell_type": "code",
   "execution_count": 35,
   "metadata": {
    "collapsed": false
   },
   "outputs": [
    {
     "data": {
      "text/plain": [
       "array([[ 0.        ,  0.        ,  2.77258872, ...,  0.        ,\n",
       "         0.        ,  0.        ],\n",
       "       [ 0.        ,  0.        ,  0.        , ...,  0.        ,\n",
       "         0.        ,  0.        ],\n",
       "       [ 0.        ,  0.        ,  0.        , ...,  0.        ,\n",
       "         0.        ,  0.        ],\n",
       "       ..., \n",
       "       [ 0.        ,  0.        ,  0.        , ...,  0.        ,\n",
       "         0.        ,  0.        ],\n",
       "       [ 0.        ,  0.        ,  0.        , ...,  0.        ,\n",
       "         0.        ,  0.        ],\n",
       "       [ 0.        ,  0.        ,  0.        , ...,  0.        ,\n",
       "         0.        ,  0.        ]])"
      ]
     },
     "execution_count": 35,
     "metadata": {},
     "output_type": "execute_result"
    }
   ],
   "source": [
    "# Compute IDF using train set\n",
    "IDF = np.log(np.divide(NMatrix, DF))\n",
    "tfidfTrain = np.zeros(np.shape(IDF), dtype = float)\n",
    "tfidfTest = np.zeros(np.shape(testData2), dtype = float)\n",
    "# Apply IDF on train set\n",
    "np.multiply(IDF, trainData2, tfidfTrain)\n",
    "# Apply IDF on test set\n",
    "np.multiply(IDF[:,:200], testData2, tfidfTest)\n"
   ]
  },
  {
   "cell_type": "code",
   "execution_count": 37,
   "metadata": {
    "collapsed": false
   },
   "outputs": [
    {
     "name": "stdout",
     "output_type": "stream",
     "text": [
      "[0.78, 0.785, 0.81, 0.77, 0.815, 0.745, 0.765, 0.73, 0.75, 0.705, 0.795, 0.725, 0.775, 0.74, 0.785, 0.73, 0.76, 0.725, 0.74]\n",
      "[0.985, 0.96, 0.97, 0.965, 0.97, 0.98, 0.98, 0.97, 0.975, 0.975, 0.98, 0.97, 0.98, 0.97, 0.985, 0.975, 0.975, 0.975, 0.975]\n"
     ]
    },
    {
     "data": {
      "image/png": "[encoded data removed]",
      "text/plain": [
       "<matplotlib.figure.Figure at 0x7da1cf8>"
      ]
     },
     "metadata": {},
     "output_type": "display_data"
    }
   ],
   "source": [
    "# Re-run step a b c\n",
    "# Re-run step a b c\n",
    "accuEuclidean = [accuracy(testData2.T, testLabels, trainData2.T, trainLabels, k, 'Euclidean') for k in range(1,20)]\n",
    "accuCosine = [accuracy(testData2.T, testLabels, trainData2.T, trainLabels, k, 'Cosine') for k in range(1, 20)]\n",
    " \n",
    "print accuEuclidean\n",
    "print accuCosine\n",
    " \n",
    "#Show the result\n",
    "X = np.array(range(1,20))\n",
    "plt.subplot(121)\n",
    "plt.plot(X, np.array((accuEuclidean)))\n",
    "plt.ylabel('Euclidean Accuracy')\n",
    "plt.subplot(122)\n",
    "plt.plot(X, np.array((accuCosine)))\n",
    "plt.ylabel('Cosine Accuracy')\n",
    "plt.show()"
   ]
  },
  {
   "cell_type": "code",
   "execution_count": null,
   "metadata": {
    "collapsed": true
   },
   "outputs": [],
   "source": [
    "# Observation:\n",
    "# Euclidean approach reachs the highest accuracy in k = 5, while Cosine approach reachs the highest accuracy in k = 1 and 15.\n",
    "# Cosine Similarity has generally higher accuracy than Euclidean distance. \n",
    "# By converting to tf-idf, the highest accuracy of Euclidean distance increased up to 0.815 when k = 5, the highest accuracy\n",
    "# of Cosine similarity increased up to 0.985. \n",
    "# End of question d.\n",
    "\n",
    "# Start of question e.\n",
    "# Create a classifier based on the Rocchio Method adapted for text categorization. Your classifier should take as input the\n",
    "# training data matrix, the training labels, and the instance to be classified. It should compute the prototype vectors for\n",
    "# each of the categories and measure Cosine similarity of the test instance to each prototype. Your output should indicate\n",
    "# the predicted class and include the similarity values of the instance to each of the category prototypes. Finally, compute\n",
    "# the classification accuracy using the test instances and compare your results to the best KNN approach you tried earlier.\n"
   ]
  }
 ],
 "metadata": {
  "kernelspec": {
   "display_name": "Python 2",
   "language": "python",
   "name": "python2"
  },
  "language_info": {
   "codemirror_mode": {
    "name": "ipython",
    "version": 2
   },
   "file_extension": ".py",
   "mimetype": "text/x-python",
   "name": "python",
   "nbconvert_exporter": "python",
   "pygments_lexer": "ipython2",
   "version": "2.7.11"
  }
 },
 "nbformat": 4,
 "nbformat_minor": 0
}
