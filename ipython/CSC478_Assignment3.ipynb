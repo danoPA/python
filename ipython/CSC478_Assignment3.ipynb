{
 "cells": [
  {
   "cell_type": "code",
   "execution_count": 11,
   "metadata": {
    "collapsed": false
   },
   "outputs": [],
   "source": [
    "# Start of question 1.a:\n",
    "# Load and preprocess the data using Pandas or Numpy and, if necessary, preprocessing\n",
    "# functions from scikit-learn. The provided data is already normalized (see description),\n",
    "# so there is no need for additional normalization. Compute and display basic statistics\n",
    "# (mean, standard deviation, min, max, etc.) for each of the variables in the data set.\n",
    "# Separate the target attribute for regression."
   ]
  },
  {
   "cell_type": "code",
   "execution_count": 12,
   "metadata": {
    "collapsed": true
   },
   "outputs": [],
   "source": [
    "from sklearn.cross_validation import KFold\n",
    "from sklearn.linear_model import LinearRegression, Lasso, Ridge, ElasticNet, SGDRegressor\n",
    "import numpy as np\n",
    "import pylab as pl\n",
    "import pandas as pd"
   ]
  },
  {
   "cell_type": "code",
   "execution_count": 13,
   "metadata": {
    "collapsed": false
   },
   "outputs": [
    {
     "name": "stdout",
     "output_type": "stream",
     "text": [
      "[Error 3] The system cannot find the path specified: u'csc478/communities'\n",
      "C:\\Users\\Shawn\\csc478\\communities\n"
     ]
    }
   ],
   "source": [
    "cd csc478\\communities"
   ]
  },
  {
   "cell_type": "code",
   "execution_count": 14,
   "metadata": {
    "collapsed": false
   },
   "outputs": [],
   "source": [
    "vs = pd.read_csv(\"communities.csv\")"
   ]
  },
  {
   "cell_type": "code",
   "execution_count": 15,
   "metadata": {
    "collapsed": false
   },
   "outputs": [
    {
     "data": {
      "text/html": [
       "<div>\n",
       "<table border=\"1\" class=\"dataframe\">\n",
       "  <thead>\n",
       "    <tr style=\"text-align: right;\">\n",
       "      <th></th>\n",
       "      <th>state</th>\n",
       "      <th>communityname</th>\n",
       "      <th>population</th>\n",
       "      <th>householdsize</th>\n",
       "      <th>racepctblack</th>\n",
       "      <th>racePctWhite</th>\n",
       "      <th>racePctAsian</th>\n",
       "      <th>racePctHisp</th>\n",
       "      <th>agePct12t21</th>\n",
       "      <th>agePct12t29</th>\n",
       "      <th>...</th>\n",
       "      <th>NumStreet</th>\n",
       "      <th>PctForeignBorn</th>\n",
       "      <th>PctBornSameState</th>\n",
       "      <th>PctSameHouse85</th>\n",
       "      <th>PctSameCity85</th>\n",
       "      <th>PctSameState85</th>\n",
       "      <th>LandArea</th>\n",
       "      <th>PopDens</th>\n",
       "      <th>PctUsePubTrans</th>\n",
       "      <th>ViolentCrimesPerPop</th>\n",
       "    </tr>\n",
       "  </thead>\n",
       "  <tbody>\n",
       "    <tr>\n",
       "      <th>count</th>\n",
       "      <td>1994.000000</td>\n",
       "      <td>1994</td>\n",
       "      <td>1994.000000</td>\n",
       "      <td>1994.000000</td>\n",
       "      <td>1994.000000</td>\n",
       "      <td>1994.000000</td>\n",
       "      <td>1994.000000</td>\n",
       "      <td>1994.000000</td>\n",
       "      <td>1994.000000</td>\n",
       "      <td>1994.000000</td>\n",
       "      <td>...</td>\n",
       "      <td>1994.000000</td>\n",
       "      <td>1994.000000</td>\n",
       "      <td>1994.000000</td>\n",
       "      <td>1994.000000</td>\n",
       "      <td>1994.000000</td>\n",
       "      <td>1994.000000</td>\n",
       "      <td>1994.000000</td>\n",
       "      <td>1994.000000</td>\n",
       "      <td>1994.000000</td>\n",
       "      <td>1994.000000</td>\n",
       "    </tr>\n",
       "    <tr>\n",
       "      <th>unique</th>\n",
       "      <td>NaN</td>\n",
       "      <td>1828</td>\n",
       "      <td>NaN</td>\n",
       "      <td>NaN</td>\n",
       "      <td>NaN</td>\n",
       "      <td>NaN</td>\n",
       "      <td>NaN</td>\n",
       "      <td>NaN</td>\n",
       "      <td>NaN</td>\n",
       "      <td>NaN</td>\n",
       "      <td>...</td>\n",
       "      <td>NaN</td>\n",
       "      <td>NaN</td>\n",
       "      <td>NaN</td>\n",
       "      <td>NaN</td>\n",
       "      <td>NaN</td>\n",
       "      <td>NaN</td>\n",
       "      <td>NaN</td>\n",
       "      <td>NaN</td>\n",
       "      <td>NaN</td>\n",
       "      <td>NaN</td>\n",
       "    </tr>\n",
       "    <tr>\n",
       "      <th>top</th>\n",
       "      <td>NaN</td>\n",
       "      <td>Jacksonvillecity</td>\n",
       "      <td>NaN</td>\n",
       "      <td>NaN</td>\n",
       "      <td>NaN</td>\n",
       "      <td>NaN</td>\n",
       "      <td>NaN</td>\n",
       "      <td>NaN</td>\n",
       "      <td>NaN</td>\n",
       "      <td>NaN</td>\n",
       "      <td>...</td>\n",
       "      <td>NaN</td>\n",
       "      <td>NaN</td>\n",
       "      <td>NaN</td>\n",
       "      <td>NaN</td>\n",
       "      <td>NaN</td>\n",
       "      <td>NaN</td>\n",
       "      <td>NaN</td>\n",
       "      <td>NaN</td>\n",
       "      <td>NaN</td>\n",
       "      <td>NaN</td>\n",
       "    </tr>\n",
       "    <tr>\n",
       "      <th>freq</th>\n",
       "      <td>NaN</td>\n",
       "      <td>5</td>\n",
       "      <td>NaN</td>\n",
       "      <td>NaN</td>\n",
       "      <td>NaN</td>\n",
       "      <td>NaN</td>\n",
       "      <td>NaN</td>\n",
       "      <td>NaN</td>\n",
       "      <td>NaN</td>\n",
       "      <td>NaN</td>\n",
       "      <td>...</td>\n",
       "      <td>NaN</td>\n",
       "      <td>NaN</td>\n",
       "      <td>NaN</td>\n",
       "      <td>NaN</td>\n",
       "      <td>NaN</td>\n",
       "      <td>NaN</td>\n",
       "      <td>NaN</td>\n",
       "      <td>NaN</td>\n",
       "      <td>NaN</td>\n",
       "      <td>NaN</td>\n",
       "    </tr>\n",
       "    <tr>\n",
       "      <th>mean</th>\n",
       "      <td>28.683551</td>\n",
       "      <td>NaN</td>\n",
       "      <td>0.057593</td>\n",
       "      <td>0.463395</td>\n",
       "      <td>0.179629</td>\n",
       "      <td>0.753716</td>\n",
       "      <td>0.153681</td>\n",
       "      <td>0.144022</td>\n",
       "      <td>0.424218</td>\n",
       "      <td>0.493867</td>\n",
       "      <td>...</td>\n",
       "      <td>0.022778</td>\n",
       "      <td>0.215552</td>\n",
       "      <td>0.608892</td>\n",
       "      <td>0.535050</td>\n",
       "      <td>0.626424</td>\n",
       "      <td>0.651530</td>\n",
       "      <td>0.065231</td>\n",
       "      <td>0.232854</td>\n",
       "      <td>0.161685</td>\n",
       "      <td>0.237979</td>\n",
       "    </tr>\n",
       "    <tr>\n",
       "      <th>std</th>\n",
       "      <td>16.397553</td>\n",
       "      <td>NaN</td>\n",
       "      <td>0.126906</td>\n",
       "      <td>0.163717</td>\n",
       "      <td>0.253442</td>\n",
       "      <td>0.244039</td>\n",
       "      <td>0.208877</td>\n",
       "      <td>0.232492</td>\n",
       "      <td>0.155196</td>\n",
       "      <td>0.143564</td>\n",
       "      <td>...</td>\n",
       "      <td>0.100400</td>\n",
       "      <td>0.231134</td>\n",
       "      <td>0.204329</td>\n",
       "      <td>0.181352</td>\n",
       "      <td>0.200521</td>\n",
       "      <td>0.198221</td>\n",
       "      <td>0.109459</td>\n",
       "      <td>0.203092</td>\n",
       "      <td>0.229055</td>\n",
       "      <td>0.232985</td>\n",
       "    </tr>\n",
       "    <tr>\n",
       "      <th>min</th>\n",
       "      <td>1.000000</td>\n",
       "      <td>NaN</td>\n",
       "      <td>0.000000</td>\n",
       "      <td>0.000000</td>\n",
       "      <td>0.000000</td>\n",
       "      <td>0.000000</td>\n",
       "      <td>0.000000</td>\n",
       "      <td>0.000000</td>\n",
       "      <td>0.000000</td>\n",
       "      <td>0.000000</td>\n",
       "      <td>...</td>\n",
       "      <td>0.000000</td>\n",
       "      <td>0.000000</td>\n",
       "      <td>0.000000</td>\n",
       "      <td>0.000000</td>\n",
       "      <td>0.000000</td>\n",
       "      <td>0.000000</td>\n",
       "      <td>0.000000</td>\n",
       "      <td>0.000000</td>\n",
       "      <td>0.000000</td>\n",
       "      <td>0.000000</td>\n",
       "    </tr>\n",
       "    <tr>\n",
       "      <th>25%</th>\n",
       "      <td>12.000000</td>\n",
       "      <td>NaN</td>\n",
       "      <td>0.010000</td>\n",
       "      <td>0.350000</td>\n",
       "      <td>0.020000</td>\n",
       "      <td>0.630000</td>\n",
       "      <td>0.040000</td>\n",
       "      <td>0.010000</td>\n",
       "      <td>0.340000</td>\n",
       "      <td>0.410000</td>\n",
       "      <td>...</td>\n",
       "      <td>0.000000</td>\n",
       "      <td>0.060000</td>\n",
       "      <td>0.470000</td>\n",
       "      <td>0.420000</td>\n",
       "      <td>0.520000</td>\n",
       "      <td>0.560000</td>\n",
       "      <td>0.020000</td>\n",
       "      <td>0.100000</td>\n",
       "      <td>0.020000</td>\n",
       "      <td>0.070000</td>\n",
       "    </tr>\n",
       "    <tr>\n",
       "      <th>50%</th>\n",
       "      <td>34.000000</td>\n",
       "      <td>NaN</td>\n",
       "      <td>0.020000</td>\n",
       "      <td>0.440000</td>\n",
       "      <td>0.060000</td>\n",
       "      <td>0.850000</td>\n",
       "      <td>0.070000</td>\n",
       "      <td>0.040000</td>\n",
       "      <td>0.400000</td>\n",
       "      <td>0.480000</td>\n",
       "      <td>...</td>\n",
       "      <td>0.000000</td>\n",
       "      <td>0.130000</td>\n",
       "      <td>0.630000</td>\n",
       "      <td>0.540000</td>\n",
       "      <td>0.670000</td>\n",
       "      <td>0.700000</td>\n",
       "      <td>0.040000</td>\n",
       "      <td>0.170000</td>\n",
       "      <td>0.070000</td>\n",
       "      <td>0.150000</td>\n",
       "    </tr>\n",
       "    <tr>\n",
       "      <th>75%</th>\n",
       "      <td>42.000000</td>\n",
       "      <td>NaN</td>\n",
       "      <td>0.050000</td>\n",
       "      <td>0.540000</td>\n",
       "      <td>0.230000</td>\n",
       "      <td>0.940000</td>\n",
       "      <td>0.170000</td>\n",
       "      <td>0.160000</td>\n",
       "      <td>0.470000</td>\n",
       "      <td>0.540000</td>\n",
       "      <td>...</td>\n",
       "      <td>0.000000</td>\n",
       "      <td>0.280000</td>\n",
       "      <td>0.777500</td>\n",
       "      <td>0.660000</td>\n",
       "      <td>0.770000</td>\n",
       "      <td>0.790000</td>\n",
       "      <td>0.070000</td>\n",
       "      <td>0.280000</td>\n",
       "      <td>0.190000</td>\n",
       "      <td>0.330000</td>\n",
       "    </tr>\n",
       "    <tr>\n",
       "      <th>max</th>\n",
       "      <td>56.000000</td>\n",
       "      <td>NaN</td>\n",
       "      <td>1.000000</td>\n",
       "      <td>1.000000</td>\n",
       "      <td>1.000000</td>\n",
       "      <td>1.000000</td>\n",
       "      <td>1.000000</td>\n",
       "      <td>1.000000</td>\n",
       "      <td>1.000000</td>\n",
       "      <td>1.000000</td>\n",
       "      <td>...</td>\n",
       "      <td>1.000000</td>\n",
       "      <td>1.000000</td>\n",
       "      <td>1.000000</td>\n",
       "      <td>1.000000</td>\n",
       "      <td>1.000000</td>\n",
       "      <td>1.000000</td>\n",
       "      <td>1.000000</td>\n",
       "      <td>1.000000</td>\n",
       "      <td>1.000000</td>\n",
       "      <td>1.000000</td>\n",
       "    </tr>\n",
       "  </tbody>\n",
       "</table>\n",
       "<p>11 rows × 100 columns</p>\n",
       "</div>"
      ],
      "text/plain": [
       "              state     communityname   population  householdsize  \\\n",
       "count   1994.000000              1994  1994.000000    1994.000000   \n",
       "unique          NaN              1828          NaN            NaN   \n",
       "top             NaN  Jacksonvillecity          NaN            NaN   \n",
       "freq            NaN                 5          NaN            NaN   \n",
       "mean      28.683551               NaN     0.057593       0.463395   \n",
       "std       16.397553               NaN     0.126906       0.163717   \n",
       "min        1.000000               NaN     0.000000       0.000000   \n",
       "25%       12.000000               NaN     0.010000       0.350000   \n",
       "50%       34.000000               NaN     0.020000       0.440000   \n",
       "75%       42.000000               NaN     0.050000       0.540000   \n",
       "max       56.000000               NaN     1.000000       1.000000   \n",
       "\n",
       "        racepctblack  racePctWhite  racePctAsian  racePctHisp  agePct12t21  \\\n",
       "count    1994.000000   1994.000000   1994.000000  1994.000000  1994.000000   \n",
       "unique           NaN           NaN           NaN          NaN          NaN   \n",
       "top              NaN           NaN           NaN          NaN          NaN   \n",
       "freq             NaN           NaN           NaN          NaN          NaN   \n",
       "mean        0.179629      0.753716      0.153681     0.144022     0.424218   \n",
       "std         0.253442      0.244039      0.208877     0.232492     0.155196   \n",
       "min         0.000000      0.000000      0.000000     0.000000     0.000000   \n",
       "25%         0.020000      0.630000      0.040000     0.010000     0.340000   \n",
       "50%         0.060000      0.850000      0.070000     0.040000     0.400000   \n",
       "75%         0.230000      0.940000      0.170000     0.160000     0.470000   \n",
       "max         1.000000      1.000000      1.000000     1.000000     1.000000   \n",
       "\n",
       "        agePct12t29         ...             NumStreet  PctForeignBorn  \\\n",
       "count   1994.000000         ...           1994.000000     1994.000000   \n",
       "unique          NaN         ...                   NaN             NaN   \n",
       "top             NaN         ...                   NaN             NaN   \n",
       "freq            NaN         ...                   NaN             NaN   \n",
       "mean       0.493867         ...              0.022778        0.215552   \n",
       "std        0.143564         ...              0.100400        0.231134   \n",
       "min        0.000000         ...              0.000000        0.000000   \n",
       "25%        0.410000         ...              0.000000        0.060000   \n",
       "50%        0.480000         ...              0.000000        0.130000   \n",
       "75%        0.540000         ...              0.000000        0.280000   \n",
       "max        1.000000         ...              1.000000        1.000000   \n",
       "\n",
       "        PctBornSameState  PctSameHouse85  PctSameCity85  PctSameState85  \\\n",
       "count        1994.000000     1994.000000    1994.000000     1994.000000   \n",
       "unique               NaN             NaN            NaN             NaN   \n",
       "top                  NaN             NaN            NaN             NaN   \n",
       "freq                 NaN             NaN            NaN             NaN   \n",
       "mean            0.608892        0.535050       0.626424        0.651530   \n",
       "std             0.204329        0.181352       0.200521        0.198221   \n",
       "min             0.000000        0.000000       0.000000        0.000000   \n",
       "25%             0.470000        0.420000       0.520000        0.560000   \n",
       "50%             0.630000        0.540000       0.670000        0.700000   \n",
       "75%             0.777500        0.660000       0.770000        0.790000   \n",
       "max             1.000000        1.000000       1.000000        1.000000   \n",
       "\n",
       "           LandArea      PopDens  PctUsePubTrans  ViolentCrimesPerPop  \n",
       "count   1994.000000  1994.000000     1994.000000          1994.000000  \n",
       "unique          NaN          NaN             NaN                  NaN  \n",
       "top             NaN          NaN             NaN                  NaN  \n",
       "freq            NaN          NaN             NaN                  NaN  \n",
       "mean       0.065231     0.232854        0.161685             0.237979  \n",
       "std        0.109459     0.203092        0.229055             0.232985  \n",
       "min        0.000000     0.000000        0.000000             0.000000  \n",
       "25%        0.020000     0.100000        0.020000             0.070000  \n",
       "50%        0.040000     0.170000        0.070000             0.150000  \n",
       "75%        0.070000     0.280000        0.190000             0.330000  \n",
       "max        1.000000     1.000000        1.000000             1.000000  \n",
       "\n",
       "[11 rows x 100 columns]"
      ]
     },
     "execution_count": 15,
     "metadata": {},
     "output_type": "execute_result"
    }
   ],
   "source": [
    "vs.describe(include = \"all\")"
   ]
  },
  {
   "cell_type": "code",
   "execution_count": 16,
   "metadata": {
    "collapsed": false
   },
   "outputs": [
    {
     "data": {
      "text/plain": [
       "state                      int64\n",
       "communityname             object\n",
       "population               float64\n",
       "householdsize            float64\n",
       "racepctblack             float64\n",
       "racePctWhite             float64\n",
       "racePctAsian             float64\n",
       "racePctHisp              float64\n",
       "agePct12t21              float64\n",
       "agePct12t29              float64\n",
       "agePct16t24              float64\n",
       "agePct65up               float64\n",
       "numbUrban                float64\n",
       "pctUrban                 float64\n",
       "medIncome                float64\n",
       "pctWWage                 float64\n",
       "pctWFarmSelf             float64\n",
       "pctWInvInc               float64\n",
       "pctWSocSec               float64\n",
       "pctWPubAsst              float64\n",
       "pctWRetire               float64\n",
       "medFamInc                float64\n",
       "perCapInc                float64\n",
       "whitePerCap              float64\n",
       "blackPerCap              float64\n",
       "indianPerCap             float64\n",
       "AsianPerCap              float64\n",
       "OtherPerCap               object\n",
       "HispPerCap               float64\n",
       "NumUnderPov              float64\n",
       "                          ...   \n",
       "MedNumBR                 float64\n",
       "HousVacant               float64\n",
       "PctHousOccup             float64\n",
       "PctHousOwnOcc            float64\n",
       "PctVacantBoarded         float64\n",
       "PctVacMore6Mos           float64\n",
       "MedYrHousBuilt           float64\n",
       "PctHousNoPhone           float64\n",
       "PctWOFullPlumb           float64\n",
       "OwnOccLowQuart           float64\n",
       "OwnOccMedVal             float64\n",
       "OwnOccHiQuart            float64\n",
       "RentLowQ                 float64\n",
       "RentMedian               float64\n",
       "RentHighQ                float64\n",
       "MedRent                  float64\n",
       "MedRentPctHousInc        float64\n",
       "MedOwnCostPctInc         float64\n",
       "MedOwnCostPctIncNoMtg    float64\n",
       "NumInShelters            float64\n",
       "NumStreet                float64\n",
       "PctForeignBorn           float64\n",
       "PctBornSameState         float64\n",
       "PctSameHouse85           float64\n",
       "PctSameCity85            float64\n",
       "PctSameState85           float64\n",
       "LandArea                 float64\n",
       "PopDens                  float64\n",
       "PctUsePubTrans           float64\n",
       "ViolentCrimesPerPop      float64\n",
       "dtype: object"
      ]
     },
     "execution_count": 16,
     "metadata": {},
     "output_type": "execute_result"
    }
   ],
   "source": [
    "vs.dtypes"
   ]
  },
  {
   "cell_type": "code",
   "execution_count": 17,
   "metadata": {
    "collapsed": false
   },
   "outputs": [
    {
     "data": {
      "text/plain": [
       "(1995L, 100L)"
      ]
     },
     "execution_count": 17,
     "metadata": {},
     "output_type": "execute_result"
    }
   ],
   "source": [
    "communityData = np.genfromtxt(\"communities.csv\", delimiter=\",\",dtype=float)\n",
    "communityData.shape"
   ]
  },
  {
   "cell_type": "code",
   "execution_count": 18,
   "metadata": {
    "collapsed": false
   },
   "outputs": [
    {
     "data": {
      "text/plain": [
       "(1994L, 100L)"
      ]
     },
     "execution_count": 18,
     "metadata": {},
     "output_type": "execute_result"
    }
   ],
   "source": [
    "communityData = np.delete(communityData, 0, 0) # Remove the head line\n",
    "communityData.shape"
   ]
  },
  {
   "cell_type": "code",
   "execution_count": 19,
   "metadata": {
    "collapsed": false
   },
   "outputs": [
    {
     "data": {
      "text/plain": [
       "array([ 0.2 ,  0.67,  0.43,  0.12,  0.03])"
      ]
     },
     "execution_count": 19,
     "metadata": {},
     "output_type": "execute_result"
    }
   ],
   "source": [
    "target = communityData[:,-1] # ViolentCrimesPerPop is target data\n",
    "target[0:5]"
   ]
  },
  {
   "cell_type": "code",
   "execution_count": 20,
   "metadata": {
    "collapsed": false
   },
   "outputs": [
    {
     "data": {
      "text/plain": [
       "array([[ 0.19,  0.33,  0.02, ...,  0.12,  0.26,  0.2 ],\n",
       "       [ 0.  ,  0.16,  0.12, ...,  0.02,  0.12,  0.45],\n",
       "       [ 0.  ,  0.42,  0.49, ...,  0.01,  0.21,  0.02],\n",
       "       ..., \n",
       "       [ 0.16,  0.37,  0.25, ...,  0.08,  0.32,  0.18],\n",
       "       [ 0.08,  0.51,  0.06, ...,  0.03,  0.38,  0.33],\n",
       "       [ 0.2 ,  0.78,  0.14, ...,  0.11,  0.3 ,  0.05]])"
      ]
     },
     "execution_count": 20,
     "metadata": {},
     "output_type": "execute_result"
    }
   ],
   "source": [
    "communityData = np.delete(communityData, 0, 1) # Remove \"state\"\n",
    "communityData = np.delete(communityData, 0, 1) # Remove \"communityname\"\n",
    "communityData = np.delete(communityData, -1, 1) # Remove \"ViolentCrimesPerPop\"\n",
    "communityData"
   ]
  },
  {
   "cell_type": "code",
   "execution_count": 21,
   "metadata": {
    "collapsed": false
   },
   "outputs": [
    {
     "data": {
      "text/plain": [
       "(1994L, 97L)"
      ]
     },
     "execution_count": 21,
     "metadata": {},
     "output_type": "execute_result"
    }
   ],
   "source": [
    "communityData.shape"
   ]
  },
  {
   "cell_type": "code",
   "execution_count": 22,
   "metadata": {
    "collapsed": false
   },
   "outputs": [
    {
     "data": {
      "text/plain": [
       "nan"
      ]
     },
     "execution_count": 22,
     "metadata": {},
     "output_type": "execute_result"
    }
   ],
   "source": [
    "# Found that there is a value missing in the data\n",
    "communityData[130][25]"
   ]
  },
  {
   "cell_type": "code",
   "execution_count": 23,
   "metadata": {
    "collapsed": false
   },
   "outputs": [
    {
     "data": {
      "text/plain": [
       "0.037772202709483192"
      ]
     },
     "execution_count": 23,
     "metadata": {},
     "output_type": "execute_result"
    }
   ],
   "source": [
    "# Replace it with mean value of OtherPerCap\n",
    "communityData[130][25] = (communityData[:130][25].sum() + communityData[131:][25].sum()) / 1993\n",
    "communityData[130][25]"
   ]
  },
  {
   "cell_type": "code",
   "execution_count": 24,
   "metadata": {
    "collapsed": false
   },
   "outputs": [],
   "source": [
    "# End of question 1.a.\n",
    "\n",
    "# Start of question 1.b:\n",
    "# Perform standard linear regression on data using the implementation for Ch. 8 of MLA.\n",
    "# Compute the RMSE value on the full training data. Also, plot the correlation between\n",
    "# the predicted and actual values of the target attribute. Display the obtained regression\n",
    "# coefficients (weights). Finally, perform 10-fold cross-validation using the learned\n",
    "# model and compare the final RMSE to the training RMSE (for cross validation, you may\n",
    "# use the KFold module from sklearn.cross_validation)."
   ]
  },
  {
   "cell_type": "code",
   "execution_count": 25,
   "metadata": {
    "collapsed": true
   },
   "outputs": [],
   "source": [
    "# In order to do multiple regression we need to add a column of 1s for x0\n",
    "x = np.array([np.concatenate((v,[1])) for v in communityData])\n",
    "y = target"
   ]
  },
  {
   "cell_type": "code",
   "execution_count": 26,
   "metadata": {
    "collapsed": false
   },
   "outputs": [
    {
     "name": "stdout",
     "output_type": "stream",
     "text": [
      "[[ 0.19  0.33  0.02  0.9   0.12  0.17  0.34  0.47  0.29  0.32  0.2   1.    0.37  0.72  0.34  0.6   0.29  0.15  0.43\n",
      "   0.39  0.4   0.39  0.32  0.27  0.27  0.36  0.41  0.08  0.19  0.1   0.18  0.48  0.27  0.68  0.23  0.41  0.68  0.4   0.75\n",
      "   0.75  0.35  0.55  0.59  0.61  0.56  0.74  0.76  0.04  0.14  0.03  0.24  0.27  0.37  0.39  0.07  0.07  0.08  0.08\n",
      "   0.89  0.06  0.14  0.13  0.33  0.39  0.28  0.55  0.09  0.51  0.5   0.21  0.71  0.52  0.05  0.26  0.65  0.14  0.06\n",
      "   0.22  0.19  0.18  0.36  0.35  0.38  0.34  0.38  0.46  0.25  0.04  0.    0.12  0.42  0.5   0.51  0.64  0.12  0.26  0.2\n",
      "   1.  ]\n",
      " [ 0.    0.16  0.12  0.74  0.45  0.07  0.26  0.59  0.35  0.27  0.02  1.    0.31  0.72  0.11  0.45  0.25  0.29  0.39\n",
      "   0.29  0.37  0.38  0.33  0.16  0.3   0.22  0.35  0.01  0.24  0.14  0.24  0.3   0.27  0.73  0.57  0.15  1.    0.63\n",
      "   0.91  1.    0.29  0.43  0.47  0.6   0.39  0.46  0.53  0.    0.24  0.01  0.52  0.62  0.64  0.63  0.25  0.27  0.25\n",
      "   0.23  0.84  0.1   0.16  0.1   0.17  0.29  0.17  0.26  0.2   0.82  0.    0.02  0.79  0.24  0.02  0.25  0.65  0.16  0.\n",
      "   0.21  0.2   0.21  0.42  0.38  0.4   0.37  0.29  0.32  0.18  0.    0.    0.21  0.5   0.34  0.6   0.52  0.02  0.12\n",
      "   0.45  1.  ]\n",
      " [ 0.    0.42  0.49  0.56  0.17  0.04  0.39  0.47  0.28  0.32  0.    0.    0.3   0.58  0.19  0.39  0.38  0.4   0.84\n",
      "   0.28  0.27  0.29  0.27  0.07  0.29  0.28  0.39  0.01  0.27  0.27  0.43  0.19  0.36  0.58  0.32  0.29  0.63  0.41\n",
      "   0.71  0.7   0.45  0.42  0.44  0.43  0.43  0.71  0.67  0.01  0.46  0.    0.07  0.06  0.15  0.19  0.02  0.02  0.04\n",
      "   0.05  0.88  0.04  0.2   0.2   0.46  0.52  0.43  0.42  0.15  0.51  0.5   0.01  0.86  0.41  0.29  0.3   0.52  0.47\n",
      "   0.45  0.18  0.17  0.16  0.27  0.29  0.27  0.31  0.48  0.39  0.28  0.    0.    0.14  0.49  0.54  0.67  0.56  0.01\n",
      "   0.21  0.02  1.  ]]\n"
     ]
    }
   ],
   "source": [
    "# First 3 elements of the data\n",
    "np.set_printoptions(precision=2, linewidth=120, suppress=True, edgeitems=4)\n",
    "print x[:3]"
   ]
  },
  {
   "cell_type": "code",
   "execution_count": 27,
   "metadata": {
    "collapsed": false
   },
   "outputs": [
    {
     "name": "stdout",
     "output_type": "stream",
     "text": [
      "[ 0.2   0.67  0.43  0.12  0.03  0.14  0.03  0.55  0.53  0.15]\n"
     ]
    }
   ],
   "source": [
    "# First 10 elements of the response variable\n",
    "print y[:10]"
   ]
  },
  {
   "cell_type": "code",
   "execution_count": 28,
   "metadata": {
    "collapsed": false
   },
   "outputs": [
    {
     "data": {
      "text/plain": [
       "LinearRegression(copy_X=True, fit_intercept=True, n_jobs=1, normalize=False)"
      ]
     },
     "execution_count": 28,
     "metadata": {},
     "output_type": "execute_result"
    }
   ],
   "source": [
    "# Create linear regression object\n",
    "linreg = LinearRegression()\n",
    "\n",
    "# Train the model using the training sets\n",
    "linreg.fit(x, y)"
   ]
  },
  {
   "cell_type": "code",
   "execution_count": 29,
   "metadata": {
    "collapsed": false
   },
   "outputs": [
    {
     "name": "stdout",
     "output_type": "stream",
     "text": [
      "[ 0.17  0.29  0.38  0.32 -0.02  0.23  0.09  0.44  0.24  0.  ]\n"
     ]
    }
   ],
   "source": [
    "# Let's see predictions for the first 10 instances\n",
    "print linreg.predict(x[:10])"
   ]
  },
  {
   "cell_type": "code",
   "execution_count": 30,
   "metadata": {
    "collapsed": false
   },
   "outputs": [
    {
     "name": "stdout",
     "output_type": "stream",
     "text": [
      "[ 0.03  0.38  0.05  0.2   0.05  0.09  0.06  0.11  0.29  0.15]\n"
     ]
    }
   ],
   "source": [
    "# Compute RMSE on training data\n",
    "# p = np.array([linreg.predict(xi) for xi in x])\n",
    "p = linreg.predict(x)\n",
    "# Now we can constuct a vector of errors\n",
    "err = abs(p - y)\n",
    "\n",
    "# Let's see the error on the first 10 predictions\n",
    "print err[:10]"
   ]
  },
  {
   "cell_type": "code",
   "execution_count": 31,
   "metadata": {
    "collapsed": false
   },
   "outputs": [
    {
     "name": "stdout",
     "output_type": "stream",
     "text": [
      "0.128875589759\n"
     ]
    }
   ],
   "source": [
    "# Dot product of error vector with itself gives us the sum of squared errors\n",
    "total_error = np.dot(err,err)\n",
    "# Compute RMSE\n",
    "rmse_train = np.sqrt(total_error / len(p))\n",
    "print rmse_train"
   ]
  },
  {
   "cell_type": "code",
   "execution_count": 32,
   "metadata": {
    "collapsed": false
   },
   "outputs": [
    {
     "name": "stdout",
     "output_type": "stream",
     "text": [
      "Regression Coefficients: \n",
      "[ 0.13 -0.03  0.21 -0.04 -0.01  0.06  0.12 -0.22 -0.15  0.05 -0.24  0.05 -0.2  -0.21  0.05 -0.18  0.06  0.01 -0.09  0.27\n",
      "  0.1  -0.33 -0.03 -0.04  0.02  0.04  0.03  0.13 -0.19 -0.1   0.06  0.11  0.    0.23 -0.04 -0.01  0.47  0.23  0.17 -0.58\n",
      " -0.14  0.06 -0.35 -0.04  0.    0.06 -0.18 -0.15  0.13 -0.14  0.02  0.03 -0.07  0.04 -0.03 -0.22  0.45 -0.2  -0.03 -0.14\n",
      "  0.06 -0.21  0.65 -0.08 -0.25 -0.67  0.2   0.1   0.03  0.17 -0.04  0.55  0.05 -0.08 -0.03  0.01 -0.01 -0.35  0.27  0.01\n",
      " -0.24 -0.03 -0.07  0.37  0.04 -0.04 -0.08  0.13  0.18  0.13  0.   -0.02  0.03  0.01  0.03 -0.01 -0.04  0.  ]\n"
     ]
    }
   ],
   "source": [
    "# We can view the regression coefficients\n",
    "print 'Regression Coefficients: \\n', linreg.coef_"
   ]
  },
  {
   "cell_type": "code",
   "execution_count": 33,
   "metadata": {
    "collapsed": false
   },
   "outputs": [
    {
     "data": {
      "image/png": "[encoded data removed]",
      "text/plain": [
       "<matplotlib.figure.Figure at 0xa583cc0>"
      ]
     },
     "metadata": {},
     "output_type": "display_data"
    }
   ],
   "source": [
    "# Plot outputs\n",
    "%matplotlib inline\n",
    "pl.plot(p, y,'ro')\n",
    "pl.plot([0,1.2],[0,1.2], 'g-')\n",
    "pl.xlabel('predicted')\n",
    "pl.ylabel('real')\n",
    "pl.show()"
   ]
  },
  {
   "cell_type": "code",
   "execution_count": 34,
   "metadata": {
    "collapsed": true
   },
   "outputs": [],
   "source": [
    "# Now let's compute RMSE using 10-fold x-validation\n",
    "kf = KFold(len(x), n_folds=10)\n",
    "xval_err = 0\n",
    "for train, test in kf:\n",
    "    linreg.fit(x[train],y[train])\n",
    "    p = linreg.predict(x[test])\n",
    "    e = p-y[test]\n",
    "    xval_err += np.dot(e,e)\n",
    "    \n",
    "rmse_10cv = np.sqrt(xval_err/len(x))"
   ]
  },
  {
   "cell_type": "code",
   "execution_count": 35,
   "metadata": {
    "collapsed": false
   },
   "outputs": [
    {
     "name": "stdout",
     "output_type": "stream",
     "text": [
      "Method: Simple Linear Regression\n",
      "RMSE on training: 0.1289\n",
      "RMSE on 10-fold CV: 0.1363\n"
     ]
    }
   ],
   "source": [
    "method_name = 'Simple Linear Regression'\n",
    "print('Method: %s' %method_name)\n",
    "print('RMSE on training: %.4f' %rmse_train)\n",
    "print('RMSE on 10-fold CV: %.4f' %rmse_10cv)"
   ]
  },
  {
   "cell_type": "code",
   "execution_count": 36,
   "metadata": {
    "collapsed": true
   },
   "outputs": [],
   "source": [
    "# End of question 1.b\n",
    "\n",
    "# Start of question 1.c:\n",
    "# Feature Selection: use the scikit-learn regression model from sklearn.linear_model\n",
    "# with a subset of features to perform linear regression. For feature selection,\n",
    "# write a script or function to takes as input the training data and target attribute,\n",
    "# the model, and any other parameters you find necessary, and returns the optimal\n",
    "# percentage of the most informative features to use. Your approach should use k-fold\n",
    "# cross-validation on the training data (you can use k=5). You can use feature_selection.\n",
    "# SelectPercentile to find the most informative variables. Show the list of most\n",
    "# informative variables and their weights [Note: since this is regression not \n",
    "# classification, you should use feature_selection.f_regression as scoring function\n",
    "# rather than chi2). Next, plot the model's mean absolute error values on cross-validation\n",
    "# relative to the percentage of selected features (See scikit-learn's\n",
    "# metrics.mean_absolute_error). In order to use cross_validation.cross_val_score with\n",
    "# regression you'll need to pass to it scoring='mean_absolute_error' as a parameter.\n",
    "# Once, you have determined the best set of features, run the model with that feature\n",
    "# subset on the set-aside test data. [Hint: for an example of a similar feature selection\n",
    "# process please review the class example notebook. Also, review scikit-learn\n",
    "# documentation for feature selection.]"
   ]
  },
  {
   "cell_type": "code",
   "execution_count": 37,
   "metadata": {
    "collapsed": false
   },
   "outputs": [
    {
     "name": "stdout",
     "output_type": "stream",
     "text": [
      "Populating the interactive namespace from numpy and matplotlib\n"
     ]
    },
    {
     "name": "stderr",
     "output_type": "stream",
     "text": [
      "WARNING: pylab import has clobbered these variables: ['test', 'e']\n",
      "`%matplotlib` prevents importing * from pylab and numpy\n"
     ]
    }
   ],
   "source": [
    "%pylab inline\n",
    "import matplotlib.pyplot as plt"
   ]
  },
  {
   "cell_type": "code",
   "execution_count": 38,
   "metadata": {
    "collapsed": false
   },
   "outputs": [
    {
     "data": {
      "text/plain": [
       "array(['state', 'communityname', 'population', 'householdsize', 'racepctblack', 'racePctWhite', 'racePctAsian',\n",
       "       'racePctHisp', 'agePct12t21', 'agePct12t29', 'agePct16t24', 'agePct65up', 'numbUrban', 'pctUrban', 'medIncome',\n",
       "       'pctWWage', 'pctWFarmSelf', 'pctWInvInc', 'pctWSocSec', 'pctWPubAsst', 'pctWRetire', 'medFamInc', 'perCapInc',\n",
       "       'whitePerCap', 'blackPerCap', 'indianPerCap', 'AsianPerCap', 'OtherPerCap', 'HispPerCap', 'NumUnderPov',\n",
       "       'PctPopUnderPov', 'PctLess9thGrade', 'PctNotHSGrad', 'PctBSorMore', 'PctUnemployed', 'PctEmploy', 'PctEmplManu',\n",
       "       'PctEmplProfServ', 'MalePctDivorce', 'MalePctNevMarr', 'FemalePctDiv', 'TotalPctDiv', 'PersPerFam', 'PctFam2Par',\n",
       "       'PctKids2Par', 'PctYoungKids2Par', 'PctTeen2Par', 'PctWorkMomYoungKids', 'PctWorkMom', 'NumIlleg', 'PctIlleg',\n",
       "       'NumImmig', 'PctImmigRecent', 'PctImmigRec5', 'PctImmigRec8', 'PctImmigRec10', 'PctRecentImmig', 'PctRecImmig5',\n",
       "       'PctRecImmig8', 'PctRecImmig10', 'PctSpeakEnglOnly', 'PctNotSpeakEnglWell', 'PctLargHouseFam',\n",
       "       'PctLargHouseOccup', 'PersPerOccupHous', 'PersPerOwnOccHous', 'PersPerRentOccHous', 'PctPersOwnOccup',\n",
       "       'PctPersDenseHous', 'PctHousLess3BR', 'MedNumBR', 'HousVacant', 'PctHousOccup', 'PctHousOwnOcc',\n",
       "       'PctVacantBoarded', 'PctVacMore6Mos', 'MedYrHousBuilt', 'PctHousNoPhone', 'PctWOFullPlumb', 'OwnOccLowQuart',\n",
       "       'OwnOccMedVal', 'OwnOccHiQuart', 'RentLowQ', 'RentMedian', 'RentHighQ', 'MedRent', 'MedRentPctHousInc',\n",
       "       'MedOwnCostPctInc', 'MedOwnCostPctIncNoMtg', 'NumInShelters', 'NumStreet', 'PctForeignBorn', 'PctBornSameState',\n",
       "       'PctSameHouse85', 'PctSameCity85', 'PctSameState85', 'LandArea', 'PopDens', 'PctUsePubTrans',\n",
       "       'ViolentCrimesPerPop'], dtype=object)"
      ]
     },
     "execution_count": 38,
     "metadata": {},
     "output_type": "execute_result"
    }
   ],
   "source": [
    "vsNames = vs.columns.values\n",
    "vsNames"
   ]
  },
  {
   "cell_type": "code",
   "execution_count": 39,
   "metadata": {
    "collapsed": false
   },
   "outputs": [
    {
     "data": {
      "text/html": [
       "<div>\n",
       "<table border=\"1\" class=\"dataframe\">\n",
       "  <thead>\n",
       "    <tr style=\"text-align: right;\">\n",
       "      <th></th>\n",
       "      <th>population</th>\n",
       "      <th>householdsize</th>\n",
       "      <th>racepctblack</th>\n",
       "      <th>racePctWhite</th>\n",
       "      <th>racePctAsian</th>\n",
       "      <th>racePctHisp</th>\n",
       "      <th>agePct12t21</th>\n",
       "      <th>agePct12t29</th>\n",
       "      <th>agePct16t24</th>\n",
       "      <th>agePct65up</th>\n",
       "      <th>...</th>\n",
       "      <th>NumInShelters</th>\n",
       "      <th>NumStreet</th>\n",
       "      <th>PctForeignBorn</th>\n",
       "      <th>PctBornSameState</th>\n",
       "      <th>PctSameHouse85</th>\n",
       "      <th>PctSameCity85</th>\n",
       "      <th>PctSameState85</th>\n",
       "      <th>LandArea</th>\n",
       "      <th>PopDens</th>\n",
       "      <th>PctUsePubTrans</th>\n",
       "    </tr>\n",
       "  </thead>\n",
       "  <tbody>\n",
       "    <tr>\n",
       "      <th>0</th>\n",
       "      <td>0.19</td>\n",
       "      <td>0.33</td>\n",
       "      <td>0.02</td>\n",
       "      <td>0.90</td>\n",
       "      <td>0.12</td>\n",
       "      <td>0.17</td>\n",
       "      <td>0.34</td>\n",
       "      <td>0.47</td>\n",
       "      <td>0.29</td>\n",
       "      <td>0.32</td>\n",
       "      <td>...</td>\n",
       "      <td>0.04</td>\n",
       "      <td>0.0</td>\n",
       "      <td>0.12</td>\n",
       "      <td>0.42</td>\n",
       "      <td>0.50</td>\n",
       "      <td>0.51</td>\n",
       "      <td>0.64</td>\n",
       "      <td>0.12</td>\n",
       "      <td>0.26</td>\n",
       "      <td>0.20</td>\n",
       "    </tr>\n",
       "    <tr>\n",
       "      <th>1</th>\n",
       "      <td>0.00</td>\n",
       "      <td>0.16</td>\n",
       "      <td>0.12</td>\n",
       "      <td>0.74</td>\n",
       "      <td>0.45</td>\n",
       "      <td>0.07</td>\n",
       "      <td>0.26</td>\n",
       "      <td>0.59</td>\n",
       "      <td>0.35</td>\n",
       "      <td>0.27</td>\n",
       "      <td>...</td>\n",
       "      <td>0.00</td>\n",
       "      <td>0.0</td>\n",
       "      <td>0.21</td>\n",
       "      <td>0.50</td>\n",
       "      <td>0.34</td>\n",
       "      <td>0.60</td>\n",
       "      <td>0.52</td>\n",
       "      <td>0.02</td>\n",
       "      <td>0.12</td>\n",
       "      <td>0.45</td>\n",
       "    </tr>\n",
       "    <tr>\n",
       "      <th>2</th>\n",
       "      <td>0.00</td>\n",
       "      <td>0.42</td>\n",
       "      <td>0.49</td>\n",
       "      <td>0.56</td>\n",
       "      <td>0.17</td>\n",
       "      <td>0.04</td>\n",
       "      <td>0.39</td>\n",
       "      <td>0.47</td>\n",
       "      <td>0.28</td>\n",
       "      <td>0.32</td>\n",
       "      <td>...</td>\n",
       "      <td>0.00</td>\n",
       "      <td>0.0</td>\n",
       "      <td>0.14</td>\n",
       "      <td>0.49</td>\n",
       "      <td>0.54</td>\n",
       "      <td>0.67</td>\n",
       "      <td>0.56</td>\n",
       "      <td>0.01</td>\n",
       "      <td>0.21</td>\n",
       "      <td>0.02</td>\n",
       "    </tr>\n",
       "    <tr>\n",
       "      <th>3</th>\n",
       "      <td>0.04</td>\n",
       "      <td>0.77</td>\n",
       "      <td>1.00</td>\n",
       "      <td>0.08</td>\n",
       "      <td>0.12</td>\n",
       "      <td>0.10</td>\n",
       "      <td>0.51</td>\n",
       "      <td>0.50</td>\n",
       "      <td>0.34</td>\n",
       "      <td>0.21</td>\n",
       "      <td>...</td>\n",
       "      <td>0.00</td>\n",
       "      <td>0.0</td>\n",
       "      <td>0.19</td>\n",
       "      <td>0.30</td>\n",
       "      <td>0.73</td>\n",
       "      <td>0.64</td>\n",
       "      <td>0.65</td>\n",
       "      <td>0.02</td>\n",
       "      <td>0.39</td>\n",
       "      <td>0.28</td>\n",
       "    </tr>\n",
       "    <tr>\n",
       "      <th>4</th>\n",
       "      <td>0.01</td>\n",
       "      <td>0.55</td>\n",
       "      <td>0.02</td>\n",
       "      <td>0.95</td>\n",
       "      <td>0.09</td>\n",
       "      <td>0.05</td>\n",
       "      <td>0.38</td>\n",
       "      <td>0.38</td>\n",
       "      <td>0.23</td>\n",
       "      <td>0.36</td>\n",
       "      <td>...</td>\n",
       "      <td>0.00</td>\n",
       "      <td>0.0</td>\n",
       "      <td>0.11</td>\n",
       "      <td>0.72</td>\n",
       "      <td>0.64</td>\n",
       "      <td>0.61</td>\n",
       "      <td>0.53</td>\n",
       "      <td>0.04</td>\n",
       "      <td>0.09</td>\n",
       "      <td>0.02</td>\n",
       "    </tr>\n",
       "  </tbody>\n",
       "</table>\n",
       "<p>5 rows × 97 columns</p>\n",
       "</div>"
      ],
      "text/plain": [
       "   population  householdsize  racepctblack  racePctWhite  racePctAsian  \\\n",
       "0        0.19           0.33          0.02          0.90          0.12   \n",
       "1        0.00           0.16          0.12          0.74          0.45   \n",
       "2        0.00           0.42          0.49          0.56          0.17   \n",
       "3        0.04           0.77          1.00          0.08          0.12   \n",
       "4        0.01           0.55          0.02          0.95          0.09   \n",
       "\n",
       "   racePctHisp  agePct12t21  agePct12t29  agePct16t24  agePct65up  \\\n",
       "0         0.17         0.34         0.47         0.29        0.32   \n",
       "1         0.07         0.26         0.59         0.35        0.27   \n",
       "2         0.04         0.39         0.47         0.28        0.32   \n",
       "3         0.10         0.51         0.50         0.34        0.21   \n",
       "4         0.05         0.38         0.38         0.23        0.36   \n",
       "\n",
       "        ...        NumInShelters  NumStreet  PctForeignBorn  PctBornSameState  \\\n",
       "0       ...                 0.04        0.0            0.12              0.42   \n",
       "1       ...                 0.00        0.0            0.21              0.50   \n",
       "2       ...                 0.00        0.0            0.14              0.49   \n",
       "3       ...                 0.00        0.0            0.19              0.30   \n",
       "4       ...                 0.00        0.0            0.11              0.72   \n",
       "\n",
       "   PctSameHouse85  PctSameCity85  PctSameState85  LandArea  PopDens  \\\n",
       "0            0.50           0.51            0.64      0.12     0.26   \n",
       "1            0.34           0.60            0.52      0.02     0.12   \n",
       "2            0.54           0.67            0.56      0.01     0.21   \n",
       "3            0.73           0.64            0.65      0.02     0.39   \n",
       "4            0.64           0.61            0.53      0.04     0.09   \n",
       "\n",
       "   PctUsePubTrans  \n",
       "0            0.20  \n",
       "1            0.45  \n",
       "2            0.02  \n",
       "3            0.28  \n",
       "4            0.02  \n",
       "\n",
       "[5 rows x 97 columns]"
      ]
     },
     "execution_count": 39,
     "metadata": {},
     "output_type": "execute_result"
    }
   ],
   "source": [
    "vsTarget = vs['ViolentCrimesPerPop'] # Split the target data\n",
    "vsTrain = vs[vsNames[2:-1]] # Remove \"state\", \"communityname\" and target data\n",
    "vsTrain.head()"
   ]
  },
  {
   "cell_type": "code",
   "execution_count": 40,
   "metadata": {
    "collapsed": false,
    "scrolled": true
   },
   "outputs": [
    {
     "name": "stderr",
     "output_type": "stream",
     "text": [
      "D:\\Anaconda2\\lib\\site-packages\\ipykernel\\__main__.py:2: SettingWithCopyWarning: \n",
      "A value is trying to be set on a copy of a slice from a DataFrame\n",
      "\n",
      "See the caveats in the documentation: http://pandas.pydata.org/pandas-docs/stable/indexing.html#indexing-view-versus-copy\n",
      "  from ipykernel import kernelapp as app\n",
      "D:\\Anaconda2\\lib\\site-packages\\IPython\\core\\interactiveshell.py:2885: SettingWithCopyWarning: \n",
      "A value is trying to be set on a copy of a slice from a DataFrame\n",
      "\n",
      "See the caveats in the documentation: http://pandas.pydata.org/pandas-docs/stable/indexing.html#indexing-view-versus-copy\n",
      "  exec(code_obj, self.user_global_ns, self.user_ns)\n"
     ]
    }
   ],
   "source": [
    "# Fix the missing value\n",
    "vsTrain['OtherPerCap'][130] = communityData[130][25]"
   ]
  },
  {
   "cell_type": "code",
   "execution_count": 41,
   "metadata": {
    "collapsed": false
   },
   "outputs": [
    {
     "data": {
      "text/plain": [
       "0.037772202709483192"
      ]
     },
     "execution_count": 41,
     "metadata": {},
     "output_type": "execute_result"
    }
   ],
   "source": [
    "vsTrain['OtherPerCap'][130]"
   ]
  },
  {
   "cell_type": "code",
   "execution_count": 42,
   "metadata": {
    "collapsed": true
   },
   "outputs": [],
   "source": [
    "from sklearn.cross_validation import train_test_split\n",
    "from sklearn import feature_selection\n",
    "from sklearn import cross_validation\n",
    "from sklearn.metrics import mean_squared_error"
   ]
  },
  {
   "cell_type": "code",
   "execution_count": 44,
   "metadata": {
    "collapsed": false
   },
   "outputs": [],
   "source": [
    "# Create the feature selection function\n",
    "def fselection (X_train, y_train, lr_model):\n",
    "    percentiles = range(1, 100, 5)\n",
    "    results = []\n",
    "    for i in range(1, 100, 5):\n",
    "        fs = feature_selection.SelectPercentile(feature_selection.f_regression, percentile = i)\n",
    "        X_train_fs = fs.fit_transform(X_train, y_train)\n",
    "        scores = cross_validation.cross_val_score(lr_model, X_train_fs, y_train, scoring='mean_absolute_error', cv=5)\n",
    "        print i, abs(scores.mean())\n",
    "        results = np.append(results, abs(scores.mean()))\n",
    "    optimal_percentil = np.where(results == results.min())[0]\n",
    "    print \"Optimal percentile of features:{0}%\".format(percentiles[optimal_percentil[0]]), \"\\n\"\n",
    "    optimal_num_features = int(floor(percentiles[optimal_percentil[0]] * len(X_train.columns)/100))\n",
    "    print \"Optimal number of features:{0}\".format(optimal_num_features), \"\\n\"\n",
    "    # Plot percentile of features VS. cross-validation scores\n",
    "    pl.figure()\n",
    "    pl.xlabel(\"Percentage of features selected\")\n",
    "    pl.ylabel(\"Mean absolute error values\")\n",
    "    pl.plot(percentiles,results)"
   ]
  },
  {
   "cell_type": "code",
   "execution_count": 45,
   "metadata": {
    "collapsed": true
   },
   "outputs": [],
   "source": [
    "# Split trainning and test data set\n",
    "X_train, X_test, y_train, y_test = train_test_split(vsTrain, vsTarget, test_size=0.2, random_state=33)"
   ]
  },
  {
   "cell_type": "code",
   "execution_count": 46,
   "metadata": {
    "collapsed": false
   },
   "outputs": [
    {
     "name": "stdout",
     "output_type": "stream",
     "text": [
      "1 0.112874011634\n",
      "6 0.0994326847568\n",
      "11 0.0990051051913\n",
      "16 0.0990905907953\n",
      "21 0.0975068622131\n",
      "26 0.0960890453654\n",
      "31 0.094784802702\n",
      "36 0.09474955355\n",
      "41 0.0943537042886\n",
      "46 0.0946644176057\n",
      "51 0.0949877334678\n",
      "56 0.0953208516481\n",
      "61 0.0957496688925\n",
      "66 0.0957208954492\n",
      "71 0.0958313222977\n",
      "76 0.0951915736978\n",
      "81 0.0954353742899\n",
      "86 0.0951496096313\n",
      "91 0.095263075006\n",
      "96 0.0952856972264\n",
      "Optimal percentile of features:41% \n",
      "\n",
      "Optimal number of features:39 \n",
      "\n"
     ]
    },
    {
     "data": {
      "image/png": "[encoded data removed]",
      "text/plain": [
       "<matplotlib.figure.Figure at 0x299a630>"
      ]
     },
     "metadata": {},
     "output_type": "display_data"
    }
   ],
   "source": [
    "# Try to find the best number of features\n",
    "lr_model = LinearRegression()\n",
    "fselection(X_train, y_train, lr_model)"
   ]
  },
  {
   "cell_type": "code",
   "execution_count": 48,
   "metadata": {
    "collapsed": false
   },
   "outputs": [
    {
     "name": "stdout",
     "output_type": "stream",
     "text": [
      "[ 0.12  0.13  0.11  0.1   0.11]\n"
     ]
    }
   ],
   "source": [
    "# Run the model with that feature subset on the set-aside test data.\n",
    "fs = feature_selection.SelectPercentile(feature_selection.f_regression, percentile = 41)\n",
    "X_train_fs = fs.fit_transform(X_test, y_test)\n",
    "scores = cross_validation.cross_val_score(lr_model, X_train_fs, y_test, scoring='mean_absolute_error', cv=5)\n",
    "print abs(scores)"
   ]
  },
  {
   "cell_type": "code",
   "execution_count": 50,
   "metadata": {
    "collapsed": false
   },
   "outputs": [
    {
     "name": "stdout",
     "output_type": "stream",
     "text": [
      "0.114343997235\n"
     ]
    }
   ],
   "source": [
    "# Mean abosolute error for 5 fold cross validation\n",
    "print abs(scores.mean())"
   ]
  },
  {
   "cell_type": "code",
   "execution_count": 52,
   "metadata": {
    "collapsed": false
   },
   "outputs": [],
   "source": [
    "# End of question 1c.\n",
    "\n",
    "# Start of question 1d:\n",
    "# Next, perform Ridge Regression and Lasso Regression, however this time use\n",
    "# the modules from sklearn.linear_model. In each case, perform systematic model\n",
    "# selection to identify the optimal alpha parameter. First, create a 20%-80%\n",
    "# randomized split of the data. Set aside the test portion; the model selection\n",
    "# process should be performed using the 80% training data partition. You should\n",
    "# create a function that takes as input the data and target attribute; the \n",
    "# parameter to vary and a list of its values, the model to be trained, and any\n",
    "# other relevant input needed to determine the optimal value for the specified\n",
    "# parameter. The model selection process should perform k-fold cross validation\n",
    "# (k should be a parameter, but you can select k=5 for this problem). You should\n",
    "# also plot the error values on the training and cross-validation splits across\n",
    "# the specified values of the alpha parameter. Finally, using the best alpha\n",
    "# value, run the model on the set-aside test data. Discuss your observation and\n",
    "# conclusions. [Hint: for an example of a similar model selection process please\n",
    "# review the class example notebook.]"
   ]
  },
  {
   "cell_type": "code",
   "execution_count": 57,
   "metadata": {
    "collapsed": true
   },
   "outputs": [],
   "source": [
    "def calc_params(X, y, model_name, param_values, param_name, K):\n",
    "    \n",
    "    # Convert input to Numpy arrays\n",
    "    X = np.array(X)\n",
    "    y = np.array(y)\n",
    "    results = []\n",
    "    # initialize training and testing scores with zeros\n",
    "    train_scores = np.zeros(len(param_values))\n",
    "    test_scores = np.zeros(len(param_values))\n",
    "    # iterate over the different parameter values\n",
    "    if model_name == \"lasso\":\n",
    "        lr_model = Lasso()\n",
    "    if model_name == \"ridge\":\n",
    "        lr_model = Ridge()\n",
    "    else:\n",
    "        # For question 1.e:\n",
    "        lr_model = SGDRegressor(penalty='elasticnet')\n",
    "    for i, param_value in enumerate(param_values):\n",
    "        # print param_name, ' = ', param_value\n",
    "        \n",
    "        # set liner regression parameters\n",
    "        lr_model.set_params(**{param_name:param_value})\n",
    "        \n",
    "        # initialize the K scores obtained for each fold\n",
    "        k_train_scores = np.zeros(K)\n",
    "        k_test_scores = np.zeros(K)\n",
    "        \n",
    "        # create KFold cross validation\n",
    "        cv = KFold(len(X), K, shuffle=True, random_state=0)\n",
    "        \n",
    "        # iterate over the K folds\n",
    "        for j, (train, test) in enumerate(cv):\n",
    "            # fit the liner regression model in the corresponding fold\n",
    "            # and obtain the corresponding accuracy scores on train and test sets\n",
    "            lr_model.fit([X[k] for k in train], y[train])\n",
    "            k_train_scores[j] = lr_model.score([X[k] for k in train], y[train])\n",
    "            k_test_scores[j] = lr_model.score([X[k] for k in test], y[test])\n",
    "            \n",
    "        # store the mean of the K fold scores\n",
    "        train_scores[i] = np.mean(k_train_scores)\n",
    "        results = np.append(results, train_scores[i])\n",
    "        optimal_parameter = np.where(results == results.max())[0]\n",
    "        \n",
    "        test_scores[i] = np.mean(k_test_scores)\n",
    "       \n",
    "    # plot the training and testing scores in a log scale\n",
    "    plt.plot(param_values, train_scores, label='Train', alpha=0.4, lw=2, c='b')\n",
    "    plt.plot(param_values, test_scores, label='X-Val', alpha=0.4, lw=2, c='g')\n",
    "    plt.legend(loc=7)\n",
    "    plt.xlabel(param_name + \" values\")\n",
    "    plt.ylabel(\"Mean cross validation accuracy\")\n",
    "\n",
    "    # return the training and testing scores on each parameter value\n",
    "    return train_scores, test_scores,optimal_parameter"
   ]
  },
  {
   "cell_type": "code",
   "execution_count": 58,
   "metadata": {
    "collapsed": false
   },
   "outputs": [
    {
     "name": "stdout",
     "output_type": "stream",
     "text": [
      "[  0.01   0.42   0.83   1.23   1.64   2.05   2.46   2.87   3.27   3.68   4.09   4.5    4.91   5.31   5.72   6.13   6.54\n",
      "   6.95   7.35   7.76   8.17   8.58   8.99   9.39   9.8   10.21  10.62  11.02  11.43  11.84  12.25  12.66  13.06  13.47\n",
      "  13.88  14.29  14.7   15.1   15.51  15.92  16.33  16.74  17.14  17.55  17.96  18.37  18.78  19.18  19.59  20.  ]\n"
     ]
    }
   ],
   "source": [
    "alpha = np.linspace(.01, 20, 50)\n",
    "print alpha"
   ]
  },
  {
   "cell_type": "code",
   "execution_count": 81,
   "metadata": {
    "collapsed": false
   },
   "outputs": [
    {
     "name": "stdout",
     "output_type": "stream",
     "text": [
      "optimal_parameter should be 0.0100\n"
     ]
    },
    {
     "data": {
      "image/png": "[encoded data removed]",
      "text/plain": [
       "<matplotlib.figure.Figure at 0xc50e3c8>"
      ]
     },
     "metadata": {},
     "output_type": "display_data"
    }
   ],
   "source": [
    "X_train, X_test, y_train, y_test = train_test_split(x, y, test_size=0.2, random_state=33)\n",
    "train_scores, test_scores, optimal_parameter = calc_params(X_train, y_train, \"lasso\", alpha, 'alpha', 5)\n",
    "alpha_best_lasso=alpha[optimal_parameter[0]]\n",
    "print (\"optimal_parameter should be %.4f\"%alpha[optimal_parameter])"
   ]
  },
  {
   "cell_type": "code",
   "execution_count": 82,
   "metadata": {
    "collapsed": false
   },
   "outputs": [
    {
     "name": "stdout",
     "output_type": "stream",
     "text": [
      "optimal_parameter should be 0.0100\n"
     ]
    },
    {
     "data": {
      "image/png": "[encoded data removed]",
      "text/plain": [
       "<matplotlib.figure.Figure at 0xd8bd3c8>"
      ]
     },
     "metadata": {},
     "output_type": "display_data"
    }
   ],
   "source": [
    "train_scores, test_scores, optimal_parameter = calc_params(X_train, y_train, \"ridge\", alpha, 'alpha', 5)\n",
    "alpha_best_ridge=alpha[optimal_parameter[0]]\n",
    "print (\"optimal_parameter should be %.4f\"%alpha[optimal_parameter])"
   ]
  },
  {
   "cell_type": "code",
   "execution_count": 83,
   "metadata": {
    "collapsed": false
   },
   "outputs": [
    {
     "name": "stdout",
     "output_type": "stream",
     "text": [
      "Method: Ridge Regression\n",
      "RMSE on training: 0.1194\n",
      "RMSE on 10-fold CV: 0.0772\n",
      "Method: Lasso Regression\n",
      "RMSE on training: 0.1632\n",
      "RMSE on 10-fold CV: 0.0750\n"
     ]
    }
   ],
   "source": [
    "ridge=Ridge(fit_intercept=True, alpha=alpha_best_ridge)\n",
    "ridge.fit(X_test,y_test)\n",
    "p = ridge.predict(X_test)\n",
    "err = p-y_test\n",
    "total_error = np.dot(err,err)\n",
    "rmse_train = np.sqrt(total_error/len(p))\n",
    "\n",
    "# Compute RMSE using 10-fold x-validation\n",
    "kf = KFold(len(X_test), n_folds=5)\n",
    "xval_err = 0\n",
    "for train,test in kf:\n",
    "    ridge.fit(X_test[train],y_test[train])\n",
    "    p = ridge.predict(X_test[test])\n",
    "    e = p-y_test[test]\n",
    "    xval_err += np.dot(e,e)\n",
    "rmse_10cv = np.sqrt(xval_err/len(x))\n",
    "\n",
    "method_name = 'Ridge Regression'\n",
    "print('Method: %s' %method_name)\n",
    "print('RMSE on training: %.4f' %rmse_train)\n",
    "print('RMSE on 10-fold CV: %.4f' %rmse_10cv)\n",
    "\n",
    "\n",
    "lasso=Lasso(fit_intercept=True, alpha=alpha_best_lasso)\n",
    "lasso.fit(X_test,y_test)\n",
    "p = lasso.predict(X_test)\n",
    "err = p-y_test\n",
    "total_error = np.dot(err,err)\n",
    "rmse_train = np.sqrt(total_error/len(p))\n",
    "\n",
    "# Compute RMSE using 10-fold x-validation\n",
    "kf = KFold(len(X_test), n_folds=5)\n",
    "xval_err = 0\n",
    "for train,test in kf:\n",
    "    lasso.fit(X_test[train],y_test[train])\n",
    "    p = lasso.predict(X_test[test])\n",
    "    e = p-y_test[test]\n",
    "    xval_err += np.dot(e,e)\n",
    "rmse_10cv = np.sqrt(xval_err/len(x))\n",
    "\n",
    "method_name = 'Lasso Regression'\n",
    "print('Method: %s' %method_name)\n",
    "print('RMSE on training: %.4f' %rmse_train)\n",
    "print('RMSE on 10-fold CV: %.4f' %rmse_10cv)"
   ]
  },
  {
   "cell_type": "code",
   "execution_count": 86,
   "metadata": {
    "collapsed": false
   },
   "outputs": [],
   "source": [
    "# As we can find from above results:\n",
    "# By using the Ridge and Lasso regression method, the best alpha should be 0.01.\n",
    "# The RMSE on 10-fold cv is more stable.\n",
    "# End of question 1.d\n",
    "\n",
    "# Start of question 1.e\n",
    "# Next, perform regression using Stochastic Gradient Descent for regression. For this part,\n",
    "# you should use the SGDRegessor module from sklearn.linear_model. Again, start with\n",
    "# creating randomized 80%-20% train-test split. SGDRegessor requires that features be\n",
    "# standardized (with 0 mean and scaled by standard deviation). Prior to fiting the model,\n",
    "# perform the scaling using StandardScaler from sklearn.preprocessing. For this problem,\n",
    "# perform a grid search (using GridSearchCV from sklearn.grid_search) Your grid search\n",
    "# should compare combinations of two penalty parameters ('l2', 'l1') and different values\n",
    "# of alpha (alpha could vary from 0.0001 which is the default to relatively large values).\n",
    "# Using the best parameters, apply the model to the set-aside test data. Finally, perform\n",
    "# model selection (similar to part d, above) to find the best \"l1_ratio\" parameter using\n",
    "# SGDRegressor with  the \"elasticnet\" penalty parameter. [Note: \"l1_ratio\" is The Elastic\n",
    "# Net mixing parameter, with 0 <= l1_ratio <= 1;  l1_ratio=0 corresponds to L2 penalty,\n",
    "# l1_ratio=1 to L1 penalty; defaults to 0.15.] Using the best mixing ratio, apply the Elastic\n",
    "# Net model to the set-aside test data. Provide a summary of your findings from the above experiments."
   ]
  },
  {
   "cell_type": "code",
   "execution_count": 92,
   "metadata": {
    "collapsed": false
   },
   "outputs": [
    {
     "name": "stdout",
     "output_type": "stream",
     "text": [
      "Fitting 5 folds for each of 20 candidates, totalling 100 fits\n"
     ]
    },
    {
     "name": "stderr",
     "output_type": "stream",
     "text": [
      "[Parallel(n_jobs=1)]: Done  49 tasks       | elapsed:    0.3s\n"
     ]
    },
    {
     "name": "stdout",
     "output_type": "stream",
     "text": [
      "Wall time: 724 ms\n"
     ]
    },
    {
     "name": "stderr",
     "output_type": "stream",
     "text": [
      "[Parallel(n_jobs=1)]: Done 100 out of 100 | elapsed:    0.6s finished\n"
     ]
    },
    {
     "data": {
      "text/plain": [
       "({'alpha': 0.01, 'penalty': 'l2'}, 0.64932022764614106)"
      ]
     },
     "execution_count": 92,
     "metadata": {},
     "output_type": "execute_result"
    }
   ],
   "source": [
    "from sklearn.preprocessing import StandardScaler\n",
    "from sklearn.grid_search import GridSearchCV\n",
    "from sklearn.linear_model import SGDRegressor\n",
    "\n",
    "X_train, X_test, y_train, y_test = train_test_split(x, y , test_size=0.2, random_state=33)\n",
    "scaler = StandardScaler()\n",
    "scaler.fit(X_train)\n",
    "x_s = scaler.transform(X_train)\n",
    "x_s_test = scaler.transform(X_test)\n",
    "\n",
    "parameters = {\n",
    "    'penalty': ['l2','l1'],\n",
    "    'alpha': np.linspace(0.01,20,10)\n",
    "   }\n",
    "gs = GridSearchCV(SGDRegressor(), parameters, n_jobs= 1, cv=5, verbose=1)\n",
    "%time _ = gs.fit(x_s, y_train)\n",
    "gs.best_params_, gs.best_score_"
   ]
  },
  {
   "cell_type": "code",
   "execution_count": 94,
   "metadata": {
    "collapsed": false
   },
   "outputs": [
    {
     "name": "stdout",
     "output_type": "stream",
     "text": [
      "Method: Stochastic Gradient Descent Regression\n",
      "RMSE on training: 0.1334\n",
      "RMSE on 10-fold CV: 0.0685\n"
     ]
    }
   ],
   "source": [
    "sgdreg = SGDRegressor(penalty='l2', alpha = 0.01)\n",
    "\n",
    "# Compute RMSE on training data\n",
    "sgdreg.fit(x_s_test,y_test)\n",
    "p = sgdreg.predict(x_s_test)\n",
    "err = p-y_test\n",
    "total_error = np.dot(err,err)\n",
    "rmse_train = np.sqrt(total_error/len(p))\n",
    "\n",
    "# Compute RMSE using 10-fold x-validation\n",
    "kf = KFold(len(X_test), n_folds=10)\n",
    "xval_err = 0\n",
    "for train,test in kf:\n",
    "    scaler = StandardScaler()\n",
    "    scaler.fit(X_test[train])  # Don't cheat - fit only on training data\n",
    "    xtrain_s = scaler.transform(X_test[train])\n",
    "    xtest_s = scaler.transform(X_test[test])  # apply same transformation to test data\n",
    "    sgdreg.fit(xtrain_s,y_test[train])\n",
    "    p = sgdreg.predict(xtest_s)\n",
    "    e = p-y_test[test]\n",
    "    xval_err += np.dot(e,e)\n",
    "rmse_10cv = np.sqrt(xval_err/len(x))\n",
    "\n",
    "method_name = 'Stochastic Gradient Descent Regression'\n",
    "print('Method: %s' %method_name)\n",
    "print('RMSE on training: %.4f' %rmse_train)\n",
    "print('RMSE on 10-fold CV: %.4f' %rmse_10cv)"
   ]
  },
  {
   "cell_type": "code",
   "execution_count": 95,
   "metadata": {
    "collapsed": false
   },
   "outputs": [
    {
     "name": "stdout",
     "output_type": "stream",
     "text": [
      "[ 0.    0.05  0.11  0.16  0.21  0.26  0.32  0.37  0.42  0.47  0.53  0.58  0.63  0.68  0.74  0.79  0.84  0.89  0.95  1.  ]\n"
     ]
    }
   ],
   "source": [
    "l1_ratio = np.linspace(0.0,1,20)\n",
    "print l1_ratio"
   ]
  },
  {
   "cell_type": "code",
   "execution_count": 98,
   "metadata": {
    "collapsed": false
   },
   "outputs": [
    {
     "name": "stdout",
     "output_type": "stream",
     "text": [
      "optimal_parameter should be 0.4211\n"
     ]
    },
    {
     "data": {
      "image/png": "[encoded data removed]",
      "text/plain": [
       "<matplotlib.figure.Figure at 0xc7dcdd8>"
      ]
     },
     "metadata": {},
     "output_type": "display_data"
    }
   ],
   "source": [
    "train_scores, test_scores, optimal_parameter = calc_params(X_train, y_train, \"SGDRegressor\", l1_ratio, 'l1_ratio', 5)\n",
    "print (\"optimal_parameter should be %.4f\"%l1_ratio[optimal_parameter])"
   ]
  },
  {
   "cell_type": "code",
   "execution_count": 99,
   "metadata": {
    "collapsed": false
   },
   "outputs": [
    {
     "name": "stdout",
     "output_type": "stream",
     "text": [
      "Method: Stochastic Gradient Descent Regression\n",
      "RMSE on training: 0.1340\n",
      "RMSE on 10-fold CV: 0.0678\n"
     ]
    }
   ],
   "source": [
    "\n",
    "sgdreg = SGDRegressor(penalty='elasticnet',l1_ratio=l1_ratio[optimal_parameter])\n",
    "\n",
    "# Compute RMSE on training data\n",
    "sgdreg.fit(x_s_test,y_test)\n",
    "p = sgdreg.predict(x_s_test)\n",
    "err = p-y_test\n",
    "total_error = np.dot(err,err)\n",
    "rmse_train = np.sqrt(total_error/len(p))\n",
    "\n",
    "# Compute RMSE using 10-fold x-validation\n",
    "kf = KFold(len(X_test), n_folds=10)\n",
    "xval_err = 0\n",
    "for train,test in kf:\n",
    "    scaler = StandardScaler()\n",
    "    scaler.fit(X_test[train])  # Don't cheat - fit only on training data\n",
    "    xtrain_s = scaler.transform(X_test[train])\n",
    "    xtest_s = scaler.transform(X_test[test])  # apply same transformation to test data\n",
    "    sgdreg.fit(xtrain_s,y_test[train])\n",
    "    p = sgdreg.predict(xtest_s)\n",
    "    e = p-y_test[test]\n",
    "    xval_err += np.dot(e,e)\n",
    "rmse_10cv = np.sqrt(xval_err/len(x))\n",
    "\n",
    "method_name = 'Stochastic Gradient Descent Regression'\n",
    "print('Method: %s' %method_name)\n",
    "print('RMSE on training: %.4f' %rmse_train)\n",
    "print('RMSE on 10-fold CV: %.4f' %rmse_10cv)"
   ]
  },
  {
   "cell_type": "code",
   "execution_count": 100,
   "metadata": {
    "collapsed": true
   },
   "outputs": [],
   "source": [
    "# According to the above results:\n",
    "# The RMSE on 10 fold cv is more stable\n",
    "# The best parameter should be 'alpha': 0.01, 'penalty': 'l2'.\n",
    "# The best l1_ratio should be 0.4, but the result can change everytime we run the model selection.\n",
    "# End of question 1.e\n",
    "\n",
    "# Start of question 2a:\n",
    "# Create your own distance function that, instead of using Euclidean distance, uses Cosine\n",
    "# similarity. This is the distance function you will use to pass to the kMeans function."
   ]
  },
  {
   "cell_type": "code",
   "execution_count": 101,
   "metadata": {
    "collapsed": true
   },
   "outputs": [],
   "source": [
    "import sklearn as skl\n",
    "from sklearn.cluster import KMeans"
   ]
  },
  {
   "cell_type": "code",
   "execution_count": 102,
   "metadata": {
    "collapsed": true
   },
   "outputs": [],
   "source": [
    "def Cosine(vecA, vecB):\n",
    "    return np.dot(vecA, vecB) / (np.linalg.norm(vecA) * np.linalg.norm(vecB))"
   ]
  },
  {
   "cell_type": "code",
   "execution_count": null,
   "metadata": {
    "collapsed": true
   },
   "outputs": [],
   "source": [
    "# End of question 2a.\n",
    "\n",
    "# Start of question 2b:\n",
    "# Load the data set [Note: the data matrix provided has terms as rows and documents as\n",
    "# columns. Since you will be clustering documents, you'll need to take the transpose\n",
    "# of this matrix so that your main data matrix is a document x term matrix. In Numpy,\n",
    "# you may use the \".T\" operation to obtain the transpose.] Then, split the data set\n",
    "# (the document x term matrix) and set aside 20% for later use (see below). Use the 80%\n",
    "# segment for clustering in the next part. The 20% portion must be a random subset."
   ]
  },
  {
   "cell_type": "code",
   "execution_count": 103,
   "metadata": {
    "collapsed": false
   },
   "outputs": [
    {
     "name": "stdout",
     "output_type": "stream",
     "text": [
      "C:\\Users\\Shawn\\csc478\\newsgroups5\n"
     ]
    }
   ],
   "source": [
    "cd C:\\Users\\Shawn\\csc478\\newsgroups5"
   ]
  },
  {
   "cell_type": "code",
   "execution_count": 104,
   "metadata": {
    "collapsed": true
   },
   "outputs": [],
   "source": [
    "data_newsgroup = np.genfromtxt(\"matrix.txt\", delimiter=\",\", dtype=None).T"
   ]
  },
  {
   "cell_type": "code",
   "execution_count": 105,
   "metadata": {
    "collapsed": true
   },
   "outputs": [],
   "source": [
    "classes = np.genfromtxt(\"classes.txt\", delimiter=\" \", dtype=None, skip_header=True)\n",
    "terms = np.genfromtxt(\"terms.txt\", dtype=None)\n",
    "cluster_names = [\"windows\", \"crypt\", \"christian\", \"hockey\", \"forsale\"]"
   ]
  },
  {
   "cell_type": "code",
   "execution_count": 106,
   "metadata": {
    "collapsed": false,
    "scrolled": true
   },
   "outputs": [
    {
     "name": "stdout",
     "output_type": "stream",
     "text": [
      "(2500L, 9328L) (2500L, 2L) (9328L,)\n",
      "[[0 0 0 0 ..., 0 0 0 0]\n",
      " [0 0 0 0 ..., 0 0 0 0]\n",
      " [0 0 0 0 ..., 0 0 0 0]\n",
      " [0 0 0 0 ..., 0 0 0 0]\n",
      " ..., \n",
      " [0 0 0 0 ..., 0 0 0 0]\n",
      " [0 0 0 0 ..., 0 0 0 0]\n",
      " [0 0 0 0 ..., 0 0 0 0]\n",
      " [0 0 0 0 ..., 0 0 0 0]]\n",
      "[[   0    0]\n",
      " [   1    1]\n",
      " [   2    1]\n",
      " [   3    1]\n",
      " ..., \n",
      " [2496    4]\n",
      " [2497    3]\n",
      " [2498    4]\n",
      " [2499    2]]\n",
      "['aa' 'aargh' 'aaron' 'aaronc' ..., 'zv' 'zw' 'zx' 'zz']\n",
      "windows\n"
     ]
    }
   ],
   "source": [
    "print data_newsgroup.shape, classes.shape, terms.shape\n",
    "print data_newsgroup\n",
    "print classes\n",
    "print terms\n",
    "print cluster_names[0]"
   ]
  },
  {
   "cell_type": "code",
   "execution_count": 109,
   "metadata": {
    "collapsed": true
   },
   "outputs": [],
   "source": [
    "# End of question 2b.\n",
    "\n",
    "# Start of question 2c:\n",
    "# As in the case of Assignment 2, transform the term-frequencies to tfxidf values. Be sure\n",
    "# to maintain DF values for each of the terms in the dictionary. [Note: if you run into\n",
    "# problems due to limited computational resources, you may prune the data by removing all\n",
    "# terms with low DF values, e.g., terms that appear in less than 10 documents. Be sure to\n",
    "# maintain the correspondence between the dictionary terms and the matrix rows.]"
   ]
  },
  {
   "cell_type": "code",
   "execution_count": 107,
   "metadata": {
    "collapsed": false
   },
   "outputs": [
    {
     "name": "stdout",
     "output_type": "stream",
     "text": [
      "(9328L,)\n",
      "(9328L,)\n",
      "(2500L, 9328L)\n",
      "[[ 0.    0.    0.    0.   ...,  0.    0.    0.    0.  ]\n",
      " [ 0.    0.    0.    0.   ...,  0.    6.83  0.    0.  ]\n",
      " [ 0.    0.    0.    0.   ...,  0.    0.    0.    0.  ]\n",
      " [ 0.    0.    0.    0.   ...,  0.    0.    0.    0.  ]\n",
      " ..., \n",
      " [ 0.    0.    0.    0.   ...,  0.    0.    0.    0.  ]\n",
      " [ 0.    0.    0.    0.   ...,  0.    0.    0.    0.  ]\n",
      " [ 0.    0.    0.    0.   ...,  0.    0.    0.    0.  ]\n",
      " [ 0.    0.    0.    0.   ...,  0.    0.    0.    0.  ]]\n"
     ]
    }
   ],
   "source": [
    "N = data_newsgroup.shape[0]\n",
    "DF = np.array(data_newsgroup > 0).sum(axis=0)\n",
    "print DF.shape\n",
    "IDF = np.log2(float(N) / DF)\n",
    "print IDF.shape\n",
    " \n",
    "data_idf = data_newsgroup * IDF\n",
    "print data_idf.shape\n",
    "print data_idf[:50,:50]"
   ]
  },
  {
   "cell_type": "code",
   "execution_count": 108,
   "metadata": {
    "collapsed": false
   },
   "outputs": [
    {
     "name": "stdout",
     "output_type": "stream",
     "text": [
      "(2000L, 9328L) (500L, 9328L) (2000L, 2L) (500L, 2L)\n"
     ]
    }
   ],
   "source": [
    "dataSet_80, dataSet_20, classes_80, classes_20 = skl.cross_validation.train_test_split(data_idf, classes, test_size=0.2)\n",
    "print dataSet_80.shape, dataSet_20.shape, classes_80.shape, classes_20.shape"
   ]
  },
  {
   "cell_type": "code",
   "execution_count": 110,
   "metadata": {
    "collapsed": true
   },
   "outputs": [],
   "source": [
    "# End of question 2c.\n",
    "\n",
    "# Start of question 2d:\n",
    "# Perform Kmeans clustering on the training data. Write a function to display the top N terms\n",
    "# in each cluster along with the cluster DF values for each term, percentage of docs in the\n",
    "# cluster in which the terms appear, and the size of the cluster. Sort the terms in decreasing\n",
    "# order of the DF percentage. [Extra Credit: use your favorite third party tool, ideally with\n",
    "# a Python based API, to create a word cloud for each cluster based on the in-cluster DF values.]"
   ]
  },
  {
   "cell_type": "code",
   "execution_count": 121,
   "metadata": {
    "collapsed": false
   },
   "outputs": [],
   "source": [
    "from sklearn.cluster import KMeans\n",
    "import kMeans"
   ]
  },
  {
   "cell_type": "code",
   "execution_count": 122,
   "metadata": {
    "collapsed": true
   },
   "outputs": [],
   "source": [
    "def distCosine(vecA, vecB):\n",
    "    return 1 - ((np.dot(vecA, vecB)) / (np.linalg.norm(vecA) * np.linalg.norm(vecB)))"
   ]
  },
  {
   "cell_type": "code",
   "execution_count": 124,
   "metadata": {
    "collapsed": false
   },
   "outputs": [],
   "source": [
    "# Since Euclidean distance assigns almost all instance into one cluster, I use (1 - Cosine similarity).\n",
    "centroids, clusters = kMeans.kMeans(dataSet_80, 5, distCosine, kMeans.randCent)"
   ]
  },
  {
   "cell_type": "code",
   "execution_count": 125,
   "metadata": {
    "collapsed": true
   },
   "outputs": [],
   "source": [
    "def display(dataset, clusters, classes, cluster_names, N):\n",
    "    #define arrays of each cluster\n",
    "    cluster_arrays = {}\n",
    "    for t in range(len(cluster_names)):\n",
    "        cluster_arrays[cluster_names[t]] = np.array([dataset[i] for i in range(len(dataset)) if clusters[i,0] == t])\n",
    "        #print cluster_names[t], cluster_arrays[cluster_names[t]].shape\n",
    "    #compute DF of each cluster\n",
    "    cluster_df = {}\n",
    "    for label in cluster_names:\n",
    "        size = cluster_arrays[label].shape[0]\n",
    "        df = np.array(cluster_arrays[label]>0).sum(axis=0)\n",
    "        cluster_df[label] = np.array([terms[(df.argsort(axis=0)[::-1])[:N]], df[(df.argsort(axis=0)[::-1])[:N]], df[(df.argsort(axis=0)[::-1])[:N]] / float(size)]).T\n",
    "        print \"Cluster: %s\\nCluster Size:%d\"%(label, size)\n",
    "        for i in range(N):\n",
    "            print cluster_df[label][i][0],\"\\t\\t\",cluster_df[label][i][1],\"\\t\",cluster_df[label][i][2]\n",
    "        #print cluster_df[label]\n",
    "        "
   ]
  },
  {
   "cell_type": "code",
   "execution_count": 126,
   "metadata": {
    "collapsed": false,
    "scrolled": false
   },
   "outputs": [
    {
     "name": "stdout",
     "output_type": "stream",
     "text": [
      "Cluster: windows\n",
      "Cluster Size:789\n",
      "write \t\t484 \t0.613434727503\n",
      "on \t\t388 \t0.491761723701\n",
      "articl \t\t376 \t0.476552598226\n",
      "think \t\t294 \t0.372623574144\n",
      "know \t\t289 \t0.36628643853\n",
      "Cluster: crypt\n",
      "Cluster Size:289\n",
      "window \t\t198 \t0.685121107266\n",
      "file \t\t130 \t0.449826989619\n",
      "write \t\t127 \t0.439446366782\n",
      "program \t\t101 \t0.349480968858\n",
      "know \t\t100 \t0.346020761246\n",
      "Cluster: christian\n",
      "Cluster Size:8\n",
      "ax \t\t7 \t0.875\n",
      "max \t\t7 \t0.875\n",
      "pl \t\t6 \t0.75\n",
      "cliff \t\t6 \t0.75\n",
      "wt \t\t6 \t0.75\n",
      "Cluster: hockey\n",
      "Cluster Size:374\n",
      "write \t\t251 \t0.671122994652\n",
      "kei \t\t192 \t0.513368983957\n",
      "articl \t\t189 \t0.505347593583\n",
      "clipper \t\t187 \t0.5\n",
      "encrypt \t\t178 \t0.475935828877\n",
      "Cluster: forsale\n",
      "Cluster Size:540\n",
      "sale \t\t238 \t0.440740740741\n",
      "email \t\t178 \t0.32962962963\n",
      "pleas \t\t173 \t0.32037037037\n",
      "thank \t\t143 \t0.264814814815\n",
      "on \t\t137 \t0.253703703704\n"
     ]
    }
   ],
   "source": [
    "display(dataSet_80, clusters, classes, cluster_names, 5)"
   ]
  },
  {
   "cell_type": "code",
   "execution_count": 127,
   "metadata": {
    "collapsed": true
   },
   "outputs": [],
   "source": [
    "# End of question 2d.\n",
    "\n",
    "# Start of question 2e:\n",
    "# Using the cluster assignments from Kmeans clustering, compare your 5 clusters to the\n",
    "# 5 pre-assigned classes by computing the Completeness and Homogeneity values."
   ]
  },
  {
   "cell_type": "code",
   "execution_count": 128,
   "metadata": {
    "collapsed": false
   },
   "outputs": [
    {
     "name": "stdout",
     "output_type": "stream",
     "text": [
      "Completeness:  0.733918454491\n",
      "Homogeneity:   0.609084064826\n"
     ]
    }
   ],
   "source": [
    "from sklearn.metrics import completeness_score, homogeneity_score\n",
    " \n",
    "newC = np.ravel(clusters.T[0]).astype(int)\n",
    "#print newC, newC.shape\n",
    "#print classes_80[:,1], classes_80[:,1].shape\n",
    "print \"Completeness: \",completeness_score(classes_80[:,1], newC)\n",
    "print \"Homogeneity:  \",homogeneity_score(classes_80[:,1], newC)"
   ]
  },
  {
   "cell_type": "code",
   "execution_count": 129,
   "metadata": {
    "collapsed": true
   },
   "outputs": [],
   "source": [
    "# End of question 2e.\n",
    "\n",
    "# Start of question 2f:\n",
    "# Finally, using your cluster assignments as class labels, categorize each of the documents\n",
    "# in the 20% set-aside data into each of the appropriate cluster. Your categorization should\n",
    "# be based on Cosine similarity between each test document and each cluster centroids.\n",
    "# Present your results in a separate file containing the obtained cluster label for each test\n",
    "# document as well as Cosine similarities between each test document and each of the 5 clusters."
   ]
  },
  {
   "cell_type": "code",
   "execution_count": 130,
   "metadata": {
    "collapsed": false
   },
   "outputs": [
    {
     "name": "stdout",
     "output_type": "stream",
     "text": [
      "   windows\t0.0950\t0.0326\t0.0000\t0.0175\t0.0140\n",
      "   windows\t0.0966\t0.0253\t0.0000\t0.0248\t0.0525\n",
      "   forsale\t0.0239\t0.0222\t0.0000\t0.0236\t0.0480\n",
      "   forsale\t0.0250\t0.0299\t0.0001\t0.0193\t0.0702\n",
      "     crypt\t0.0526\t0.1152\t0.0000\t0.0553\t0.0962\n",
      "   forsale\t0.0339\t0.0419\t0.0000\t0.0446\t0.0892\n",
      "     crypt\t0.0451\t0.1129\t0.0000\t0.0450\t0.0928\n",
      "   forsale\t0.0141\t0.0412\t0.0001\t0.0287\t0.1651\n",
      "   windows\t0.1299\t0.0261\t0.0000\t0.0333\t0.0384\n",
      "   windows\t0.1503\t0.0321\t0.0000\t0.0408\t0.0453\n",
      "     crypt\t0.0635\t0.1081\t0.0000\t0.0481\t0.0855\n",
      "     crypt\t0.0425\t0.0797\t0.0000\t0.0623\t0.0528\n",
      "   forsale\t0.0406\t0.0391\t0.0000\t0.0389\t0.0819\n",
      "   windows\t0.1532\t0.0956\t0.0000\t0.0919\t0.0977\n",
      "   windows\t0.0474\t0.0078\t0.0000\t0.0237\t0.0174\n",
      "   forsale\t0.0351\t0.0200\t0.0000\t0.0208\t0.0842\n",
      "    hockey\t0.1117\t0.0490\t0.0000\t0.1535\t0.0756\n",
      "   windows\t0.1166\t0.0187\t0.0000\t0.0412\t0.0369\n",
      "     crypt\t0.0426\t0.1175\t0.0000\t0.0434\t0.0989\n",
      "   windows\t0.1269\t0.0361\t0.0000\t0.0488\t0.0757\n",
      "    hockey\t0.0655\t0.0569\t0.0000\t0.2323\t0.0559\n",
      "   windows\t0.1290\t0.0927\t0.0000\t0.0699\t0.0803\n",
      "    hockey\t0.0644\t0.0615\t0.0000\t0.2096\t0.0468\n",
      "   windows\t0.0743\t0.0273\t0.0000\t0.0366\t0.0389\n",
      "   windows\t0.1241\t0.0301\t0.0000\t0.0284\t0.0523\n",
      "    hockey\t0.0180\t0.0221\t0.0000\t0.0289\t0.0184\n",
      "    hockey\t0.0598\t0.0862\t0.0000\t0.1369\t0.0651\n",
      "   windows\t0.1354\t0.0165\t0.0000\t0.0232\t0.0408\n",
      "   windows\t0.1995\t0.0358\t0.0000\t0.0601\t0.0447\n",
      "   windows\t0.1255\t0.0396\t0.0000\t0.0552\t0.0559\n",
      "   forsale\t0.0733\t0.0985\t0.0000\t0.0522\t0.1409\n",
      "   forsale\t0.0356\t0.0200\t0.0001\t0.0142\t0.1182\n",
      "   windows\t0.0845\t0.0240\t0.0000\t0.0360\t0.0304\n",
      "    hockey\t0.0864\t0.0883\t0.0000\t0.1980\t0.1135\n",
      "     crypt\t0.0131\t0.0650\t0.0000\t0.0151\t0.0475\n",
      "    hockey\t0.0848\t0.0898\t0.0000\t0.2734\t0.0826\n",
      "   forsale\t0.0327\t0.0677\t0.0000\t0.0385\t0.1868\n",
      "   forsale\t0.0352\t0.0394\t0.0001\t0.0297\t0.1369\n",
      "    hockey\t0.0607\t0.0338\t0.0000\t0.1231\t0.0394\n",
      "   windows\t0.2122\t0.0693\t0.0000\t0.0726\t0.0923\n",
      "   windows\t0.1817\t0.0263\t0.0000\t0.0509\t0.0415\n",
      "    hockey\t0.0661\t0.0607\t0.0000\t0.1199\t0.0842\n",
      "   windows\t0.1377\t0.0257\t0.0000\t0.0318\t0.0691\n",
      "   forsale\t0.0217\t0.0350\t0.0000\t0.0221\t0.2082\n",
      "   windows\t0.1255\t0.0450\t0.0000\t0.0633\t0.0574\n",
      "    hockey\t0.0822\t0.0691\t0.0000\t0.1744\t0.0749\n",
      "   windows\t0.1675\t0.0606\t0.0000\t0.0824\t0.0858\n",
      "   forsale\t0.0531\t0.1208\t0.0000\t0.0684\t0.1774\n",
      "    hockey\t0.1307\t0.0885\t0.0000\t0.1896\t0.1020\n",
      "   windows\t0.1938\t0.0601\t0.0000\t0.0814\t0.0719\n",
      "   windows\t0.1295\t0.0238\t0.0000\t0.0334\t0.0425\n",
      "     crypt\t0.0483\t0.0872\t0.0000\t0.0299\t0.0757\n",
      "   windows\t0.1438\t0.0362\t0.0001\t0.0572\t0.0335\n",
      "   forsale\t0.0374\t0.0242\t0.0000\t0.0299\t0.1019\n",
      "    hockey\t0.0316\t0.0428\t0.0000\t0.1836\t0.0283\n",
      "    hockey\t0.0630\t0.0452\t0.0000\t0.3016\t0.0768\n",
      "   windows\t0.1112\t0.0429\t0.0000\t0.0511\t0.0387\n",
      "     crypt\t0.0278\t0.1205\t0.0000\t0.0341\t0.1047\n",
      "   forsale\t0.0603\t0.0408\t0.0000\t0.0363\t0.1234\n",
      "   windows\t0.1453\t0.0494\t0.0000\t0.0838\t0.1092\n",
      "     crypt\t0.0309\t0.1018\t0.0000\t0.0307\t0.0502\n",
      "    hockey\t0.0862\t0.0750\t0.0000\t0.2013\t0.1034\n",
      "   windows\t0.1501\t0.0337\t0.0000\t0.0441\t0.0648\n",
      "   forsale\t0.0612\t0.1183\t0.0000\t0.0581\t0.1467\n",
      "   forsale\t0.0775\t0.0446\t0.0000\t0.0651\t0.1487\n",
      "   windows\t0.0584\t0.0300\t0.0000\t0.0550\t0.0462\n",
      "   windows\t0.2584\t0.0538\t0.0000\t0.0989\t0.0712\n",
      "   forsale\t0.0441\t0.0289\t0.0000\t0.0474\t0.1222\n",
      "    hockey\t0.0760\t0.0519\t0.0000\t0.1344\t0.1064\n",
      "    hockey\t0.0926\t0.0334\t0.0000\t0.0940\t0.0296\n",
      "   forsale\t0.0135\t0.0106\t0.0000\t0.0064\t0.0541\n",
      "   windows\t0.1206\t0.0293\t0.0000\t0.0402\t0.0384\n",
      "   forsale\t0.0352\t0.0352\t0.0000\t0.0468\t0.1375\n",
      "   forsale\t0.0248\t0.0713\t0.0000\t0.0330\t0.1817\n",
      "    hockey\t0.0707\t0.0315\t0.0000\t0.1621\t0.0371\n",
      "   windows\t0.0654\t0.0212\t0.0000\t0.0243\t0.0346\n",
      "   forsale\t0.0590\t0.0847\t0.0000\t0.0867\t0.2191\n",
      "   windows\t0.0373\t0.0142\t0.0000\t0.0228\t0.0279\n",
      "   windows\t0.1339\t0.0371\t0.0000\t0.0391\t0.0471\n",
      "     crypt\t0.0310\t0.1047\t0.0000\t0.0428\t0.0632\n",
      "     crypt\t0.0514\t0.0947\t0.0000\t0.0452\t0.0424\n",
      "    hockey\t0.0815\t0.1038\t0.0000\t0.1256\t0.0787\n",
      "   windows\t0.0635\t0.0333\t0.0000\t0.0429\t0.0527\n",
      "   windows\t0.2351\t0.0449\t0.0000\t0.0660\t0.0569\n",
      "   windows\t0.1503\t0.0604\t0.0000\t0.0680\t0.0706\n",
      "   windows\t0.0903\t0.0250\t0.0002\t0.0397\t0.0305\n",
      "    hockey\t0.0966\t0.0752\t0.0000\t0.3076\t0.0734\n",
      "   windows\t0.1556\t0.0444\t0.0000\t0.0514\t0.0526\n",
      "   forsale\t0.0711\t0.1273\t0.0000\t0.0533\t0.1327\n",
      "   windows\t0.0646\t0.0227\t0.0000\t0.0367\t0.0545\n",
      "     crypt\t0.0583\t0.1178\t0.0000\t0.0545\t0.0791\n",
      "   windows\t0.0685\t0.0338\t0.0000\t0.0364\t0.0538\n",
      "   windows\t0.2327\t0.0564\t0.0000\t0.1024\t0.0813\n",
      "   windows\t0.1730\t0.0402\t0.0001\t0.0400\t0.0528\n",
      "   forsale\t0.0145\t0.0696\t0.0000\t0.0198\t0.1586\n",
      "    hockey\t0.0505\t0.0566\t0.0000\t0.2800\t0.0540\n",
      "     crypt\t0.0555\t0.1625\t0.0000\t0.0555\t0.1466\n",
      "   windows\t0.0876\t0.0281\t0.0000\t0.0380\t0.0380\n",
      "   windows\t0.0875\t0.0520\t0.0000\t0.0474\t0.0628\n",
      "    hockey\t0.0521\t0.0571\t0.0000\t0.1392\t0.0785\n",
      "   windows\t0.1737\t0.0433\t0.0000\t0.0606\t0.0532\n",
      "   windows\t0.1332\t0.0243\t0.0000\t0.0466\t0.0464\n",
      "   windows\t0.1520\t0.0309\t0.0000\t0.0614\t0.0467\n",
      "   windows\t0.2630\t0.0777\t0.0000\t0.1343\t0.0999\n",
      "   windows\t0.0598\t0.0134\t0.0000\t0.0163\t0.0214\n",
      "     crypt\t0.0789\t0.1836\t0.0000\t0.0695\t0.1644\n",
      "   forsale\t0.0149\t0.0514\t0.0000\t0.0112\t0.0992\n",
      "   forsale\t0.0218\t0.1001\t0.0000\t0.0403\t0.1303\n",
      "     crypt\t0.0336\t0.1319\t0.0000\t0.0627\t0.1233\n",
      "     crypt\t0.0554\t0.1396\t0.0000\t0.0548\t0.1206\n",
      "   forsale\t0.0127\t0.0140\t0.0001\t0.0052\t0.1020\n",
      "    hockey\t0.0962\t0.0824\t0.0000\t0.3441\t0.0744\n",
      "   windows\t0.1367\t0.0314\t0.0000\t0.0394\t0.0624\n",
      "   windows\t0.0844\t0.0221\t0.0000\t0.0437\t0.0296\n",
      "   forsale\t0.0232\t0.0482\t0.0000\t0.0283\t0.1297\n",
      "   forsale\t0.0398\t0.1223\t0.0001\t0.0447\t0.1871\n",
      "    hockey\t0.0976\t0.0450\t0.0000\t0.1488\t0.0558\n",
      "    hockey\t0.0925\t0.1913\t0.0000\t0.3080\t0.1241\n",
      "   windows\t0.0886\t0.0352\t0.0000\t0.0696\t0.0563\n",
      "   windows\t0.0993\t0.0284\t0.0000\t0.0376\t0.0394\n",
      "   windows\t0.1320\t0.0288\t0.0000\t0.0326\t0.0249\n",
      "   windows\t0.2128\t0.0220\t0.0000\t0.0410\t0.0347\n",
      "   windows\t0.0654\t0.0280\t0.0000\t0.0276\t0.0503\n",
      "   windows\t0.1495\t0.0533\t0.0000\t0.0574\t0.0602\n",
      "   forsale\t0.0345\t0.0658\t0.0000\t0.0367\t0.1628\n",
      "   forsale\t0.1138\t0.1340\t0.0000\t0.1379\t0.3673\n",
      "   windows\t0.1223\t0.0255\t0.0000\t0.0499\t0.0563\n",
      "     crypt\t0.0289\t0.1272\t0.0000\t0.0350\t0.0688\n",
      "   windows\t0.1605\t0.0388\t0.0000\t0.0611\t0.0553\n",
      "   windows\t0.0938\t0.0473\t0.0004\t0.0317\t0.0375\n",
      "   windows\t0.0591\t0.0232\t0.0000\t0.0275\t0.0348\n",
      "   forsale\t0.0135\t0.0168\t0.0000\t0.0211\t0.0891\n",
      "   forsale\t0.0514\t0.0337\t0.0000\t0.0419\t0.1503\n",
      "   windows\t0.0979\t0.0432\t0.0000\t0.0469\t0.0561\n",
      "   forsale\t0.0271\t0.0434\t0.0000\t0.0247\t0.1396\n",
      "    hockey\t0.1070\t0.0683\t0.0000\t0.1679\t0.0752\n",
      "   forsale\t0.0151\t0.0219\t0.0000\t0.0118\t0.0898\n",
      "   windows\t0.1762\t0.0469\t0.0000\t0.0471\t0.0514\n",
      "     crypt\t0.0708\t0.0943\t0.0000\t0.0940\t0.0872\n",
      "    hockey\t0.0493\t0.0795\t0.0000\t0.3033\t0.0615\n",
      "   windows\t0.1674\t0.0393\t0.0000\t0.0585\t0.0671\n",
      "   forsale\t0.0226\t0.0322\t0.0000\t0.0345\t0.1431\n",
      "   windows\t0.1583\t0.0496\t0.0000\t0.0605\t0.0394\n",
      "   windows\t0.2015\t0.0276\t0.0001\t0.0327\t0.0416\n",
      "     crypt\t0.0741\t0.1317\t0.0000\t0.0871\t0.1097\n",
      "   forsale\t0.0699\t0.0854\t0.0001\t0.0777\t0.0896\n",
      "     crypt\t0.0432\t0.1338\t0.0000\t0.0389\t0.0878\n",
      "    hockey\t0.0354\t0.0407\t0.0000\t0.1724\t0.0341\n",
      "   forsale\t0.0224\t0.0671\t0.0001\t0.0393\t0.2312\n",
      "   windows\t0.1872\t0.0496\t0.0000\t0.0737\t0.0575\n",
      "     crypt\t0.0370\t0.1369\t0.0000\t0.0434\t0.1116\n",
      "    hockey\t0.0503\t0.1134\t0.0000\t0.1620\t0.0484\n",
      "     crypt\t0.0509\t0.1527\t0.0001\t0.0532\t0.0949\n",
      "   windows\t0.2077\t0.0192\t0.0000\t0.0329\t0.0280\n",
      "    hockey\t0.0821\t0.0598\t0.0000\t0.1685\t0.0675\n",
      "     crypt\t0.0791\t0.1910\t0.0000\t0.1090\t0.1501\n",
      "    hockey\t0.0462\t0.1260\t0.0000\t0.1514\t0.0712\n",
      "   windows\t0.1818\t0.0268\t0.0000\t0.0427\t0.0432\n",
      "   windows\t0.2081\t0.0420\t0.0000\t0.0658\t0.0584\n",
      "   forsale\t0.0507\t0.1433\t0.0000\t0.0577\t0.1708\n",
      "   windows\t0.2047\t0.0359\t0.0000\t0.0796\t0.0525\n",
      "    hockey\t0.0472\t0.0434\t0.0000\t0.0953\t0.0419\n",
      "   forsale\t0.0318\t0.0740\t0.0000\t0.0318\t0.1729\n",
      "   windows\t0.2420\t0.0525\t0.0371\t0.0694\t0.0683\n",
      "   forsale\t0.0360\t0.0424\t0.0000\t0.0386\t0.1543\n",
      "   windows\t0.1075\t0.0576\t0.0000\t0.0263\t0.0306\n",
      "   windows\t0.1098\t0.0712\t0.0000\t0.0642\t0.0871\n",
      "   forsale\t0.0602\t0.0389\t0.0001\t0.0307\t0.1324\n",
      "   windows\t0.1938\t0.0629\t0.0000\t0.0847\t0.0541\n",
      "    hockey\t0.0383\t0.0737\t0.0000\t0.2278\t0.0548\n",
      "   windows\t0.1883\t0.0441\t0.0000\t0.0663\t0.0441\n",
      "   forsale\t0.0339\t0.1038\t0.0000\t0.0395\t0.1139\n",
      "    hockey\t0.0421\t0.0276\t0.0000\t0.1730\t0.0357\n",
      " christian\t0.0046\t0.0156\t0.9999\t0.0001\t0.0016\n",
      "   forsale\t0.0186\t0.0258\t0.0000\t0.0289\t0.0425\n",
      "   forsale\t0.0584\t0.0651\t0.0000\t0.0442\t0.0943\n",
      "   windows\t0.2417\t0.0380\t0.0000\t0.0747\t0.0427\n",
      "   forsale\t0.0369\t0.0463\t0.0003\t0.0280\t0.0802\n",
      "   forsale\t0.0392\t0.0832\t0.0000\t0.0479\t0.1688\n",
      "   forsale\t0.0280\t0.0260\t0.0000\t0.0198\t0.1329\n",
      "   forsale\t0.0252\t0.1299\t0.0000\t0.0472\t0.1434\n",
      "   forsale\t0.0506\t0.0490\t0.0000\t0.0591\t0.1388\n",
      "     crypt\t0.0398\t0.1123\t0.0000\t0.0437\t0.0705\n",
      "     crypt\t0.0332\t0.1075\t0.0000\t0.0507\t0.0591\n",
      "   windows\t0.0917\t0.0163\t0.0000\t0.0275\t0.0374\n",
      "   forsale\t0.0550\t0.1533\t0.0000\t0.0606\t0.1554\n",
      "   forsale\t0.1035\t0.1058\t0.0000\t0.0951\t0.1262\n",
      "   windows\t0.0902\t0.0538\t0.0000\t0.0457\t0.0589\n",
      "   windows\t0.1979\t0.0376\t0.0000\t0.0711\t0.0422\n",
      "   windows\t0.1311\t0.0383\t0.0000\t0.0794\t0.0402\n",
      "   forsale\t0.0850\t0.0453\t0.0000\t0.0392\t0.0920\n",
      "   forsale\t0.0287\t0.0341\t0.0000\t0.0379\t0.1247\n",
      "   forsale\t0.0793\t0.1989\t0.0000\t0.0849\t0.2284\n",
      "     crypt\t0.0822\t0.1308\t0.0000\t0.1005\t0.1160\n",
      "   forsale\t0.0480\t0.0507\t0.0000\t0.0536\t0.0940\n",
      "   forsale\t0.0636\t0.0278\t0.0000\t0.0424\t0.1082\n",
      "   windows\t0.1161\t0.0445\t0.0000\t0.0597\t0.0543\n",
      "   windows\t0.0951\t0.0367\t0.0000\t0.0627\t0.0862\n",
      "   windows\t0.1130\t0.0331\t0.0001\t0.0398\t0.0424\n",
      "   windows\t0.2205\t0.0438\t0.0000\t0.0760\t0.0483\n",
      "    hockey\t0.0627\t0.0557\t0.0000\t0.1354\t0.0731\n",
      "   forsale\t0.0233\t0.0257\t0.0000\t0.0225\t0.1005\n",
      "    hockey\t0.0342\t0.0238\t0.0000\t0.0951\t0.0325\n",
      "   windows\t0.2046\t0.0368\t0.0000\t0.0671\t0.0462\n",
      "   forsale\t0.0511\t0.0472\t0.0000\t0.0444\t0.0684\n",
      "     crypt\t0.0138\t0.0875\t0.0000\t0.0271\t0.0466\n",
      "    hockey\t0.0241\t0.0222\t0.0000\t0.1683\t0.0314\n",
      "     crypt\t0.1035\t0.1733\t0.0000\t0.0904\t0.1400\n",
      "   forsale\t0.0605\t0.0630\t0.0000\t0.0345\t0.1374\n",
      "   forsale\t0.0444\t0.0475\t0.0000\t0.0390\t0.0568\n",
      "   windows\t0.1357\t0.0520\t0.0000\t0.0811\t0.0716\n",
      "   forsale\t0.0351\t0.0073\t0.0000\t0.0093\t0.0816\n",
      "   forsale\t0.0426\t0.0458\t0.0000\t0.0435\t0.1112\n",
      "   forsale\t0.0179\t0.0468\t0.0000\t0.0356\t0.0546\n",
      "     crypt\t0.0654\t0.1634\t0.0000\t0.0705\t0.1014\n",
      "    hockey\t0.0387\t0.0951\t0.0000\t0.0969\t0.0706\n",
      "   windows\t0.1653\t0.0286\t0.0000\t0.0521\t0.0473\n",
      "    hockey\t0.0680\t0.0307\t0.0000\t0.1217\t0.0376\n",
      "   windows\t0.1294\t0.0540\t0.0000\t0.0662\t0.0721\n",
      "   forsale\t0.0876\t0.0902\t0.0000\t0.0768\t0.1181\n",
      "    hockey\t0.0597\t0.0778\t0.0000\t0.1945\t0.0907\n",
      "    hockey\t0.0927\t0.0621\t0.0000\t0.2228\t0.0573\n",
      "     crypt\t0.0560\t0.0735\t0.0000\t0.0462\t0.0536\n",
      "     crypt\t0.0737\t0.2170\t0.0000\t0.0924\t0.1109\n",
      "   windows\t0.3503\t0.0611\t0.0000\t0.1034\t0.0867\n",
      "   windows\t0.0770\t0.0190\t0.0000\t0.0409\t0.0408\n",
      "     crypt\t0.0464\t0.1974\t0.0000\t0.0595\t0.1721\n",
      "   windows\t0.1376\t0.0354\t0.0000\t0.0171\t0.0324\n",
      "   windows\t0.0337\t0.0155\t0.0000\t0.0194\t0.0276\n",
      "   forsale\t0.0195\t0.0188\t0.0006\t0.0235\t0.0741\n",
      "   forsale\t0.0478\t0.0353\t0.0000\t0.0552\t0.0792\n",
      "   windows\t0.2954\t0.0738\t0.0000\t0.1089\t0.1021\n",
      "   forsale\t0.0847\t0.0677\t0.0000\t0.0913\t0.1983\n",
      "     crypt\t0.0390\t0.1136\t0.0000\t0.0446\t0.0557\n",
      "   windows\t0.1035\t0.0611\t0.0000\t0.0726\t0.0816\n",
      "   forsale\t0.0428\t0.0281\t0.0000\t0.0261\t0.1003\n",
      "   windows\t0.2554\t0.0765\t0.0000\t0.1106\t0.0823\n",
      "   forsale\t0.0572\t0.1244\t0.0000\t0.0677\t0.2162\n",
      "   windows\t0.1578\t0.0457\t0.0000\t0.0543\t0.0587\n",
      "     crypt\t0.0525\t0.0866\t0.0000\t0.0632\t0.0594\n",
      "   windows\t0.1574\t0.0443\t0.0000\t0.0717\t0.0605\n",
      "   forsale\t0.0652\t0.0331\t0.0002\t0.0362\t0.1788\n",
      "     crypt\t0.0550\t0.1712\t0.0000\t0.0422\t0.0747\n",
      "    hockey\t0.0523\t0.0312\t0.0000\t0.1314\t0.0353\n",
      "   windows\t0.1807\t0.0457\t0.0000\t0.0749\t0.0751\n",
      "     crypt\t0.0300\t0.0681\t0.0000\t0.0541\t0.0615\n",
      "   forsale\t0.0651\t0.0572\t0.0000\t0.0578\t0.1495\n",
      "   windows\t0.1725\t0.0318\t0.0000\t0.0591\t0.0435\n",
      "   windows\t0.1248\t0.0360\t0.0001\t0.0176\t0.0332\n",
      "   forsale\t0.0403\t0.1318\t0.0000\t0.0452\t0.1785\n",
      "   windows\t0.0530\t0.0089\t0.0000\t0.0191\t0.0113\n",
      "    hockey\t0.0816\t0.0641\t0.0000\t0.2866\t0.0596\n",
      "     crypt\t0.0899\t0.0947\t0.0000\t0.0232\t0.0352\n",
      "    hockey\t0.0871\t0.0703\t0.0000\t0.1077\t0.0952\n",
      "   forsale\t0.0530\t0.0584\t0.0000\t0.0559\t0.1711\n",
      "   forsale\t0.0391\t0.0498\t0.0001\t0.0398\t0.2281\n",
      "   forsale\t0.1110\t0.0609\t0.0000\t0.0684\t0.2375\n",
      "    hockey\t0.0793\t0.0764\t0.0000\t0.2533\t0.0953\n",
      "     crypt\t0.0552\t0.0862\t0.0000\t0.0343\t0.0719\n",
      "   windows\t0.2206\t0.0555\t0.0000\t0.0737\t0.0975\n",
      "    hockey\t0.0481\t0.1166\t0.0000\t0.1487\t0.0927\n",
      "    hockey\t0.0325\t0.0397\t0.0000\t0.0525\t0.0416\n",
      "    hockey\t0.0458\t0.0633\t0.0000\t0.1755\t0.0554\n",
      "     crypt\t0.0548\t0.0912\t0.0000\t0.0331\t0.0764\n",
      "   windows\t0.1781\t0.0519\t0.0000\t0.0643\t0.0840\n",
      "    hockey\t0.0282\t0.0357\t0.0000\t0.1925\t0.0256\n",
      "     crypt\t0.0213\t0.0642\t0.0000\t0.0403\t0.0566\n",
      "     crypt\t0.0334\t0.1166\t0.0002\t0.0530\t0.0825\n",
      "   forsale\t0.0389\t0.0734\t0.0000\t0.0386\t0.1428\n",
      "     crypt\t0.0333\t0.1343\t0.0000\t0.0413\t0.0545\n",
      "   windows\t0.0888\t0.0289\t0.0000\t0.0447\t0.0322\n",
      "   windows\t0.0659\t0.0099\t0.0000\t0.0150\t0.0284\n",
      "   windows\t0.0941\t0.0169\t0.0000\t0.0217\t0.0267\n",
      "   windows\t0.1490\t0.0407\t0.0000\t0.0554\t0.0527\n",
      "    hockey\t0.0999\t0.1010\t0.0000\t0.3755\t0.1316\n",
      "   windows\t0.0956\t0.0272\t0.0000\t0.0305\t0.0511\n",
      "   forsale\t0.0764\t0.0743\t0.0000\t0.0650\t0.2361\n",
      "   windows\t0.0802\t0.0427\t0.0000\t0.0533\t0.0628\n",
      "    hockey\t0.0236\t0.0175\t0.0000\t0.0735\t0.0162\n",
      "    hockey\t0.0907\t0.0902\t0.0000\t0.2217\t0.0700\n",
      "   forsale\t0.0565\t0.0591\t0.0000\t0.0990\t0.1001\n",
      "    hockey\t0.0843\t0.0689\t0.0000\t0.3674\t0.0901\n",
      "    hockey\t0.0594\t0.0820\t0.0000\t0.1992\t0.0806\n",
      "   forsale\t0.0437\t0.0868\t0.0000\t0.0504\t0.1132\n",
      "   windows\t0.0993\t0.0222\t0.0000\t0.0249\t0.0246\n",
      "     crypt\t0.0486\t0.1025\t0.0000\t0.0510\t0.0678\n",
      "   windows\t0.1748\t0.0379\t0.0000\t0.0591\t0.0480\n",
      "    hockey\t0.0842\t0.0670\t0.0000\t0.3159\t0.0850\n",
      "   forsale\t0.0016\t0.0066\t0.0000\t0.0040\t0.0197\n",
      "   windows\t0.0819\t0.0216\t0.0001\t0.0171\t0.0434\n",
      "    hockey\t0.0779\t0.0621\t0.0000\t0.2820\t0.0706\n",
      "    hockey\t0.0892\t0.0373\t0.0000\t0.1078\t0.0416\n",
      "    hockey\t0.0805\t0.0667\t0.0000\t0.1978\t0.0723\n",
      "   windows\t0.0871\t0.0303\t0.0000\t0.0293\t0.0411\n",
      "   forsale\t0.1050\t0.0701\t0.0001\t0.0654\t0.1162\n",
      "    hockey\t0.0578\t0.0488\t0.0000\t0.1723\t0.0622\n",
      "   forsale\t0.0029\t0.0087\t0.0000\t0.0061\t0.0369\n",
      "   windows\t0.1039\t0.0719\t0.0000\t0.0947\t0.0821\n",
      "     crypt\t0.0397\t0.1652\t0.0000\t0.0403\t0.1259\n",
      "   windows\t0.1521\t0.0300\t0.0000\t0.0465\t0.0352\n",
      "     crypt\t0.0699\t0.1108\t0.0000\t0.0594\t0.1077\n",
      "    hockey\t0.1159\t0.0627\t0.0000\t0.2303\t0.0584\n",
      "   windows\t0.2595\t0.0453\t0.0000\t0.0686\t0.0625\n",
      "   forsale\t0.0313\t0.0672\t0.0000\t0.0436\t0.2144\n",
      "   forsale\t0.0400\t0.0418\t0.0000\t0.0433\t0.1008\n",
      "     crypt\t0.0340\t0.1250\t0.0000\t0.0654\t0.1116\n",
      "   windows\t0.0965\t0.0501\t0.0000\t0.0302\t0.0443\n",
      "   windows\t0.1415\t0.0467\t0.0000\t0.0542\t0.0672\n",
      "     crypt\t0.0693\t0.1551\t0.0000\t0.0645\t0.1398\n",
      "   windows\t0.1075\t0.0349\t0.0000\t0.0364\t0.0499\n",
      "   forsale\t0.0305\t0.0196\t0.0000\t0.0216\t0.0754\n",
      "   windows\t0.1024\t0.0431\t0.0000\t0.0563\t0.0514\n",
      "   windows\t0.0884\t0.0166\t0.0000\t0.0257\t0.0285\n",
      "     crypt\t0.0513\t0.1568\t0.0000\t0.0618\t0.1112\n",
      "     crypt\t0.0562\t0.1269\t0.0000\t0.0816\t0.1131\n",
      "   forsale\t0.0169\t0.1092\t0.0000\t0.0191\t0.1165\n",
      "   windows\t0.1549\t0.0282\t0.0000\t0.0548\t0.0603\n",
      "   forsale\t0.0219\t0.0344\t0.0000\t0.0097\t0.0439\n",
      "   windows\t0.1268\t0.0554\t0.0000\t0.0635\t0.0577\n",
      "   windows\t0.1633\t0.0410\t0.0000\t0.0830\t0.0606\n",
      "    hockey\t0.0749\t0.0253\t0.0000\t0.2302\t0.0409\n",
      "   windows\t0.1546\t0.0385\t0.0000\t0.0445\t0.0669\n",
      "   windows\t0.0609\t0.0200\t0.0000\t0.0175\t0.0380\n",
      "   windows\t0.0868\t0.0395\t0.0000\t0.0334\t0.0354\n",
      "   forsale\t0.0659\t0.0810\t0.0000\t0.0617\t0.2027\n",
      "     crypt\t0.0589\t0.0976\t0.0000\t0.0532\t0.0742\n",
      "     crypt\t0.0537\t0.0759\t0.0000\t0.0422\t0.0555\n",
      "    hockey\t0.1723\t0.1163\t0.0000\t0.3636\t0.1223\n",
      "     crypt\t0.0238\t0.1070\t0.0000\t0.0324\t0.0575\n",
      "   forsale\t0.0432\t0.0488\t0.0000\t0.0396\t0.1285\n",
      "     crypt\t0.0217\t0.1086\t0.0000\t0.0273\t0.0722\n",
      "   windows\t0.0876\t0.0233\t0.0000\t0.0276\t0.0316\n",
      "   forsale\t0.0720\t0.1439\t0.0000\t0.0700\t0.1898\n",
      "   windows\t0.0986\t0.0352\t0.0000\t0.0519\t0.0548\n",
      "   windows\t0.1502\t0.0515\t0.0000\t0.0595\t0.0587\n",
      "     crypt\t0.0871\t0.1659\t0.0000\t0.0528\t0.0558\n",
      "   forsale\t0.0121\t0.0391\t0.0000\t0.0245\t0.1469\n",
      "    hockey\t0.0659\t0.0525\t0.0000\t0.2252\t0.0616\n",
      "   forsale\t0.0667\t0.0935\t0.0000\t0.0703\t0.1149\n",
      "   windows\t0.0384\t0.0136\t0.0000\t0.0225\t0.0149\n",
      "    hockey\t0.0537\t0.0537\t0.0000\t0.2379\t0.0400\n",
      "   windows\t0.1833\t0.0795\t0.0000\t0.0547\t0.0729\n",
      "   forsale\t0.0306\t0.0476\t0.0000\t0.0491\t0.1052\n",
      "   forsale\t0.0384\t0.0413\t0.0000\t0.0463\t0.1315\n",
      "     crypt\t0.0376\t0.0816\t0.0000\t0.0443\t0.0652\n",
      "   windows\t0.0986\t0.0838\t0.0000\t0.0796\t0.0892\n",
      "     crypt\t0.1196\t0.1372\t0.0000\t0.1083\t0.0969\n",
      "   windows\t0.1406\t0.0455\t0.0000\t0.0759\t0.0714\n",
      "    hockey\t0.0671\t0.0463\t0.0000\t0.2065\t0.0455\n",
      "     crypt\t0.0223\t0.1248\t0.0000\t0.0272\t0.0750\n",
      "    hockey\t0.0802\t0.0467\t0.0000\t0.1586\t0.0378\n",
      "   windows\t0.1131\t0.0371\t0.0000\t0.0400\t0.0740\n",
      "   windows\t0.0852\t0.0238\t0.0000\t0.0234\t0.0303\n",
      "   windows\t0.1044\t0.0347\t0.0000\t0.0522\t0.0416\n",
      "   windows\t0.1059\t0.0426\t0.0000\t0.0619\t0.0583\n",
      "    hockey\t0.1406\t0.0808\t0.0000\t0.2427\t0.0875\n",
      "    hockey\t0.0666\t0.0494\t0.0000\t0.1534\t0.0474\n",
      "     crypt\t0.0393\t0.1010\t0.0000\t0.0613\t0.0678\n",
      "   windows\t0.0909\t0.0242\t0.0000\t0.0348\t0.0508\n",
      "    hockey\t0.0909\t0.0835\t0.0000\t0.1175\t0.0768\n",
      "   windows\t0.1627\t0.0585\t0.0000\t0.0893\t0.0786\n",
      "   windows\t0.0700\t0.0182\t0.0000\t0.0244\t0.0272\n",
      "   windows\t0.1203\t0.0200\t0.0000\t0.0312\t0.0316\n",
      "    hockey\t0.0601\t0.0567\t0.0000\t0.1825\t0.0563\n",
      "   windows\t0.1320\t0.0324\t0.0000\t0.0400\t0.0489\n",
      "    hockey\t0.0982\t0.1251\t0.0000\t0.4706\t0.0836\n",
      "     crypt\t0.0197\t0.1098\t0.0000\t0.0174\t0.0608\n",
      "    hockey\t0.1108\t0.0815\t0.0000\t0.1452\t0.0784\n",
      "    hockey\t0.0292\t0.0340\t0.0000\t0.0824\t0.0476\n",
      "    hockey\t0.0552\t0.0605\t0.0002\t0.1452\t0.0417\n",
      "   windows\t0.1727\t0.0216\t0.0000\t0.0455\t0.0363\n",
      "   windows\t0.1311\t0.0479\t0.0000\t0.0453\t0.0453\n",
      "   windows\t0.1014\t0.0325\t0.0000\t0.0388\t0.0441\n",
      "   windows\t0.1323\t0.0267\t0.0000\t0.0300\t0.0384\n",
      "   windows\t0.1549\t0.0242\t0.0001\t0.0370\t0.0273\n",
      "     crypt\t0.0590\t0.1209\t0.0000\t0.0545\t0.0834\n",
      "    hockey\t0.0682\t0.0627\t0.0000\t0.1623\t0.0816\n",
      "   forsale\t0.0217\t0.0218\t0.0000\t0.0217\t0.0932\n",
      "   windows\t0.1243\t0.0546\t0.0001\t0.0392\t0.0683\n",
      "     crypt\t0.0138\t0.0519\t0.0000\t0.0082\t0.0446\n",
      "   forsale\t0.0515\t0.0935\t0.0000\t0.0717\t0.1400\n",
      "    hockey\t0.0793\t0.0544\t0.0000\t0.3096\t0.0770\n",
      "   windows\t0.1860\t0.0264\t0.0000\t0.0599\t0.0396\n",
      "   windows\t0.0991\t0.0288\t0.0000\t0.0281\t0.0360\n",
      "   windows\t0.0635\t0.0121\t0.0001\t0.0175\t0.0133\n",
      "    hockey\t0.0704\t0.0331\t0.0000\t0.1340\t0.0473\n",
      "   windows\t0.0995\t0.0374\t0.0000\t0.0783\t0.0487\n",
      "   forsale\t0.0503\t0.0346\t0.0000\t0.0276\t0.0555\n",
      "   forsale\t0.0349\t0.0396\t0.0001\t0.0274\t0.1147\n",
      "   windows\t0.1362\t0.0283\t0.0000\t0.0456\t0.0336\n",
      "   windows\t0.1055\t0.0470\t0.0000\t0.0615\t0.0617\n",
      "   forsale\t0.0464\t0.0856\t0.0001\t0.0548\t0.2006\n",
      "   forsale\t0.0540\t0.0616\t0.0000\t0.0426\t0.2425\n",
      "     crypt\t0.0163\t0.3919\t0.0257\t0.0078\t0.0181\n",
      "   forsale\t0.0705\t0.0461\t0.0000\t0.0538\t0.1653\n",
      "    hockey\t0.0598\t0.0423\t0.0000\t0.1145\t0.0433\n",
      "   windows\t0.1436\t0.0627\t0.0000\t0.0500\t0.0601\n",
      "   forsale\t0.0286\t0.0344\t0.0000\t0.0430\t0.0631\n",
      "    hockey\t0.0694\t0.0492\t0.0000\t0.0939\t0.0547\n",
      "   windows\t0.2759\t0.0594\t0.0000\t0.0996\t0.0752\n",
      "    hockey\t0.0414\t0.0213\t0.0000\t0.0525\t0.0315\n",
      "   windows\t0.1513\t0.0419\t0.0000\t0.0540\t0.0520\n",
      "    hockey\t0.0646\t0.0476\t0.0000\t0.1692\t0.0429\n",
      "   windows\t0.1430\t0.0476\t0.0000\t0.0643\t0.0624\n",
      "   windows\t0.1529\t0.0222\t0.0000\t0.0413\t0.0328\n",
      "   forsale\t0.0435\t0.0744\t0.0000\t0.0460\t0.1315\n",
      "   forsale\t0.0303\t0.0344\t0.0000\t0.0297\t0.0404\n",
      "   windows\t0.0780\t0.0253\t0.0000\t0.0432\t0.0437\n",
      "   forsale\t0.0441\t0.0596\t0.0000\t0.0453\t0.1501\n",
      "    hockey\t0.0288\t0.0159\t0.0000\t0.0879\t0.0166\n",
      "    hockey\t0.0701\t0.1138\t0.0000\t0.1643\t0.0880\n",
      "   forsale\t0.0380\t0.0412\t0.0000\t0.0447\t0.1235\n",
      "   windows\t0.1005\t0.0434\t0.0000\t0.0402\t0.0483\n",
      "   forsale\t0.0377\t0.0249\t0.0000\t0.0500\t0.1269\n",
      "   forsale\t0.0530\t0.0341\t0.0188\t0.0348\t0.1167\n",
      "   forsale\t0.0303\t0.0558\t0.0000\t0.0345\t0.1631\n",
      "   forsale\t0.0129\t0.0117\t0.0000\t0.0079\t0.0354\n",
      "   forsale\t0.0486\t0.0256\t0.0000\t0.0260\t0.0730\n",
      "   windows\t0.0664\t0.0097\t0.0000\t0.0125\t0.0247\n",
      "   windows\t0.2484\t0.0624\t0.0000\t0.1064\t0.0659\n",
      "    hockey\t0.0789\t0.0659\t0.0000\t0.3444\t0.0914\n",
      "   windows\t0.2722\t0.0923\t0.0001\t0.1377\t0.1201\n",
      "   windows\t0.1466\t0.0458\t0.0000\t0.0742\t0.0791\n",
      "   windows\t0.1183\t0.0380\t0.0000\t0.0565\t0.0451\n",
      "    hockey\t0.1122\t0.1255\t0.0000\t0.3707\t0.1226\n",
      "   windows\t0.1216\t0.0399\t0.0000\t0.0140\t0.0297\n",
      "     crypt\t0.0973\t0.1747\t0.0000\t0.0878\t0.1630\n",
      "    hockey\t0.0376\t0.0356\t0.0002\t0.1747\t0.0359\n",
      "   windows\t0.0847\t0.0433\t0.0000\t0.0386\t0.0544\n",
      "   forsale\t0.0218\t0.0325\t0.0000\t0.0357\t0.1352\n",
      "    hockey\t0.0860\t0.0417\t0.0000\t0.1057\t0.0631\n",
      "    hockey\t0.0464\t0.0434\t0.0000\t0.2010\t0.0328\n",
      "   forsale\t0.0391\t0.0619\t0.0049\t0.0538\t0.1923\n",
      "    hockey\t0.0780\t0.0667\t0.0000\t0.2367\t0.0743\n",
      "   windows\t0.1540\t0.0213\t0.0000\t0.0514\t0.0405\n",
      "     crypt\t0.0828\t0.0985\t0.0000\t0.0780\t0.0761\n",
      "    hockey\t0.0782\t0.0673\t0.0000\t0.2880\t0.0618\n",
      "    hockey\t0.0570\t0.1017\t0.0003\t0.1948\t0.1242\n",
      "     crypt\t0.0330\t0.1243\t0.0000\t0.0357\t0.0821\n",
      "   forsale\t0.0365\t0.0851\t0.0000\t0.0249\t0.1722\n",
      "   windows\t0.0860\t0.0247\t0.0000\t0.0234\t0.0215\n",
      "   windows\t0.1274\t0.0416\t0.0000\t0.0679\t0.0534\n",
      "    hockey\t0.2365\t0.1543\t0.0000\t0.5237\t0.1643\n",
      "    hockey\t0.0276\t0.0387\t0.0001\t0.1294\t0.0353\n",
      "   forsale\t0.0593\t0.0915\t0.0000\t0.0666\t0.1373\n",
      "   windows\t0.1107\t0.0271\t0.0000\t0.0405\t0.0477\n",
      "   windows\t0.0600\t0.0443\t0.0000\t0.0451\t0.0565\n",
      "   forsale\t0.0305\t0.0486\t0.0000\t0.0418\t0.0494\n",
      "    hockey\t0.0982\t0.1400\t0.0000\t0.3219\t0.1014\n",
      "    hockey\t0.0526\t0.0515\t0.0000\t0.1551\t0.0562\n",
      "     crypt\t0.0426\t0.1382\t0.0000\t0.0039\t0.0410\n",
      "     crypt\t0.0326\t0.1055\t0.0000\t0.0445\t0.0790\n",
      "    hockey\t0.0687\t0.0710\t0.0001\t0.2863\t0.0748\n",
      "   forsale\t0.0271\t0.0317\t0.0000\t0.0189\t0.0843\n",
      "   forsale\t0.0560\t0.0639\t0.0000\t0.0653\t0.0799\n",
      "   windows\t0.2396\t0.0542\t0.0001\t0.0641\t0.0869\n",
      "   windows\t0.1629\t0.0358\t0.0000\t0.0467\t0.0477\n",
      "   windows\t0.1450\t0.0382\t0.0000\t0.0542\t0.0414\n",
      "   forsale\t0.0385\t0.0828\t0.0000\t0.0513\t0.2586\n",
      "   windows\t0.0982\t0.0274\t0.0000\t0.0337\t0.0571\n",
      "    hockey\t0.0878\t0.0493\t0.0000\t0.1310\t0.0586\n",
      "     crypt\t0.0128\t0.0625\t0.0000\t0.0132\t0.0609\n",
      "     crypt\t0.0313\t0.0869\t0.0000\t0.0700\t0.0574\n",
      "   windows\t0.0814\t0.0215\t0.0000\t0.0385\t0.0525\n",
      "   windows\t0.1068\t0.0253\t0.0000\t0.0414\t0.0443\n",
      "   windows\t0.0702\t0.0242\t0.0000\t0.0287\t0.0301\n",
      "   forsale\t0.0540\t0.1033\t0.0003\t0.0814\t0.1815\n",
      "   windows\t0.1239\t0.0340\t0.0000\t0.0683\t0.0553\n",
      "   forsale\t0.0439\t0.0435\t0.0000\t0.0378\t0.1386\n",
      "   forsale\t0.0607\t0.0543\t0.0000\t0.0534\t0.1417\n",
      "    hockey\t0.0355\t0.0358\t0.0000\t0.0903\t0.0620\n",
      "     crypt\t0.0649\t0.0662\t0.0000\t0.0593\t0.0593\n",
      "   forsale\t0.0302\t0.0362\t0.0000\t0.0333\t0.1798\n",
      "    hockey\t0.0488\t0.0311\t0.0000\t0.1749\t0.0341\n",
      "   forsale\t0.0329\t0.0306\t0.0000\t0.0212\t0.1422\n",
      "    hockey\t0.0426\t0.0451\t0.0000\t0.1670\t0.0488\n",
      "    hockey\t0.0904\t0.0652\t0.0000\t0.1511\t0.0743\n",
      "   forsale\t0.0240\t0.0424\t0.0001\t0.0249\t0.0997\n",
      "   windows\t0.0756\t0.0193\t0.0000\t0.0242\t0.0148\n",
      "     crypt\t0.0441\t0.1576\t0.0000\t0.1100\t0.1111\n",
      "   forsale\t0.0383\t0.0485\t0.0000\t0.0412\t0.1500\n",
      "   forsale\t0.0341\t0.0240\t0.0000\t0.0195\t0.1076\n",
      "   forsale\t0.0267\t0.0382\t0.0015\t0.0387\t0.0588\n",
      "   forsale\t0.0494\t0.0397\t0.0001\t0.0394\t0.1324\n",
      "    hockey\t0.0547\t0.0322\t0.0000\t0.0775\t0.0591\n",
      "     crypt\t0.0304\t0.0821\t0.0000\t0.0311\t0.0608\n",
      "    hockey\t0.0548\t0.0596\t0.0000\t0.2509\t0.0728\n",
      "    hockey\t0.0958\t0.0852\t0.0000\t0.2403\t0.0907\n",
      "   windows\t0.1636\t0.0839\t0.0000\t0.1011\t0.1383\n",
      "   windows\t0.1258\t0.0479\t0.0000\t0.0844\t0.0613\n",
      "   forsale\t0.0135\t0.0329\t0.0000\t0.0102\t0.0697\n",
      "   windows\t0.1439\t0.0342\t0.0000\t0.0298\t0.0335\n",
      "   windows\t0.2223\t0.0592\t0.0000\t0.0789\t0.0961\n",
      "   windows\t0.1984\t0.0526\t0.0000\t0.0807\t0.0697\n",
      "   windows\t0.0675\t0.0404\t0.0000\t0.0407\t0.0326\n",
      "   windows\t0.2546\t0.0751\t0.0000\t0.1226\t0.0859\n",
      "   windows\t0.1436\t0.0450\t0.0000\t0.0891\t0.0619\n",
      "   windows\t0.1038\t0.0263\t0.0000\t0.0458\t0.0446\n",
      "    hockey\t0.1311\t0.0943\t0.0000\t0.3265\t0.0901\n",
      "   forsale\t0.0379\t0.0493\t0.0000\t0.0284\t0.1185\n"
     ]
    }
   ],
   "source": [
    "max_similarity = 0.0\n",
    "fl = open(\"category.txt\",\"w+\")\n",
    "for instance in dataSet_20:\n",
    "    #compute the similarity of each centroids\n",
    "    cos_list = np.array(np.zeros(len(centroids)), dtype=float)\n",
    "    for i in range(len(centroids)):\n",
    "        max_index = 0\n",
    "        max_similarity = 0.0\n",
    "        cos_list[i] = Cosine(centroids[i], instance)\n",
    "        \n",
    "    print \"%10s\\t%.4f\\t%.4f\\t%.4f\\t%.4f\\t%.4f\"%(cluster_names[cos_list.argmax()], cos_list[0], cos_list[1],cos_list[2],cos_list[3],cos_list[4])\n",
    "    fl.write(\"%10s\\t%.4f\\t%.4f\\t%.4f\\t%.4f\\t%.4f\\n\"%(cluster_names[cos_list.argmax()], cos_list[0], cos_list[1],cos_list[2],cos_list[3],cos_list[4]));\n",
    "    \n",
    "    \n",
    "fl.flush()\n",
    "fl.close()"
   ]
  },
  {
   "cell_type": "code",
   "execution_count": 131,
   "metadata": {
    "collapsed": true
   },
   "outputs": [],
   "source": [
    "# End of question 2f."
   ]
  },
  {
   "cell_type": "code",
   "execution_count": null,
   "metadata": {
    "collapsed": true
   },
   "outputs": [],
   "source": []
  }
 ],
 "metadata": {
  "kernelspec": {
   "display_name": "Python 2",
   "language": "python",
   "name": "python2"
  },
  "language_info": {
   "codemirror_mode": {
    "name": "ipython",
    "version": 2
   },
   "file_extension": ".py",
   "mimetype": "text/x-python",
   "name": "python",
   "nbconvert_exporter": "python",
   "pygments_lexer": "ipython2",
   "version": "2.7.11"
  }
 },
 "nbformat": 4,
 "nbformat_minor": 0
}
