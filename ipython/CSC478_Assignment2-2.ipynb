{
 "cells": [
  {
   "cell_type": "code",
   "execution_count": 1,
   "metadata": {
    "collapsed": false
   },
   "outputs": [],
   "source": [
    "# Start of question a:\n",
    "# Load and preprocess the data using Numpy or Pandas and the preprocessing functions from scikit-learn. Specifically,\n",
    "# you need to separate the target attribute (\"pep\") from the portion of the data to be used for training and testing.\n",
    "# You will need to convert the selected dataset into the Standard Spreadsheet format (scikit-learn functions generally\n",
    "# assume that all attributes are in numeric form). Finally, you need to split the transformed data into training and\n",
    "# test sets (using 80%-20% randomized split).\n",
    "\n",
    "import numpy as np\n",
    "from numpy import *"
   ]
  },
  {
   "cell_type": "code",
   "execution_count": 2,
   "metadata": {
    "collapsed": false
   },
   "outputs": [
    {
     "name": "stdout",
     "output_type": "stream",
     "text": [
      "C:\\Users\\Shawn\\csc478\n"
     ]
    }
   ],
   "source": [
    "cd csc478"
   ]
  },
  {
   "cell_type": "code",
   "execution_count": 3,
   "metadata": {
    "collapsed": false
   },
   "outputs": [
    {
     "name": "stdout",
     "output_type": "stream",
     "text": [
      "('id', 'age', 'income', 'children', 'gender', 'region', 'married', 'car', 'savings_acct', 'current_acct', 'mortgage', 'pep')\n"
     ]
    }
   ],
   "source": [
    "vs = np.genfromtxt(\"bank_data.csv\", delimiter=\",\", names=True, dtype=('|S8', int, float, int, '|S8', '|S12', '|S3', '|S3', '|S3', '|S3', '|S3','|S3'))\n",
    "print vs.dtype.names"
   ]
  },
  {
   "cell_type": "code",
   "execution_count": 4,
   "metadata": {
    "collapsed": false
   },
   "outputs": [
    {
     "data": {
      "text/plain": [
       "array([(48, 17546.0, 1, 'FEMALE', 'INNER_CITY', 'NO', 'NO', 'NO', 'NO', 'NO'),\n",
       "       (40, 30085.1, 3, 'MALE', 'TOWN', 'YES', 'YES', 'NO', 'YES', 'YES'),\n",
       "       (51, 16575.4, 0, 'FEMALE', 'INNER_CITY', 'YES', 'YES', 'YES', 'YES', 'NO'),\n",
       "       (23, 20375.4, 3, 'FEMALE', 'TOWN', 'YES', 'NO', 'NO', 'YES', 'NO'),\n",
       "       (57, 50576.3, 0, 'FEMALE', 'RURAL', 'YES', 'NO', 'YES', 'NO', 'NO')], \n",
       "      dtype=[('age', '<i4'), ('income', '<f8'), ('children', '<i4'), ('gender', 'S8'), ('region', 'S12'), ('married', 'S3'), ('car', 'S3'), ('savings_acct', 'S3'), ('current_acct', 'S3'), ('mortgage', 'S3')])"
      ]
     },
     "execution_count": 4,
     "metadata": {},
     "output_type": "execute_result"
    }
   ],
   "source": [
    "vs_records = vs[['age', 'income', 'children', 'gender', 'region', 'married', 'car', 'savings_acct', 'current_acct', 'mortgage']]\n",
    "vs_records[:5]"
   ]
  },
  {
   "cell_type": "code",
   "execution_count": 5,
   "metadata": {
    "collapsed": false
   },
   "outputs": [
    {
     "data": {
      "text/plain": [
       "array(['YES', 'NO', 'NO', 'NO', 'NO'], \n",
       "      dtype='|S3')"
      ]
     },
     "execution_count": 5,
     "metadata": {},
     "output_type": "execute_result"
    }
   ],
   "source": [
    "vs_target = vs['pep']\n",
    "vs_target[:5]"
   ]
  },
  {
   "cell_type": "code",
   "execution_count": 6,
   "metadata": {
    "collapsed": false
   },
   "outputs": [
    {
     "data": {
      "text/plain": [
       "('age',\n",
       " 'income',\n",
       " 'children',\n",
       " 'gender',\n",
       " 'region',\n",
       " 'married',\n",
       " 'car',\n",
       " 'savings_acct',\n",
       " 'current_acct',\n",
       " 'mortgage')"
      ]
     },
     "execution_count": 6,
     "metadata": {},
     "output_type": "execute_result"
    }
   ],
   "source": [
    "vs_names = vs_records.dtype.names\n",
    "vs_names"
   ]
  },
  {
   "cell_type": "code",
   "execution_count": 7,
   "metadata": {
    "collapsed": false
   },
   "outputs": [
    {
     "data": {
      "text/plain": [
       "[{'age': 48,\n",
       "  'car': 'NO',\n",
       "  'children': 1,\n",
       "  'current_acct': 'NO',\n",
       "  'gender': 'FEMALE',\n",
       "  'income': 17546.0,\n",
       "  'married': 'NO',\n",
       "  'mortgage': 'NO',\n",
       "  'region': 'INNER_CITY',\n",
       "  'savings_acct': 'NO'},\n",
       " {'age': 40,\n",
       "  'car': 'YES',\n",
       "  'children': 3,\n",
       "  'current_acct': 'YES',\n",
       "  'gender': 'MALE',\n",
       "  'income': 30085.099999999999,\n",
       "  'married': 'YES',\n",
       "  'mortgage': 'YES',\n",
       "  'region': 'TOWN',\n",
       "  'savings_acct': 'NO'}]"
      ]
     },
     "execution_count": 7,
     "metadata": {},
     "output_type": "execute_result"
    }
   ],
   "source": [
    "vs_dict = [dict(zip(vs_names, record)) for record in vs_records]\n",
    "vs_dict[:2]"
   ]
  },
  {
   "cell_type": "code",
   "execution_count": 8,
   "metadata": {
    "collapsed": false
   },
   "outputs": [
    {
     "data": {
      "text/plain": [
       "['age',\n",
       " 'car=NO',\n",
       " 'car=YES',\n",
       " 'children',\n",
       " 'current_acct=NO',\n",
       " 'current_acct=YES',\n",
       " 'gender=FEMALE',\n",
       " 'gender=MALE',\n",
       " 'income',\n",
       " 'married=NO',\n",
       " 'married=YES',\n",
       " 'mortgage=NO',\n",
       " 'mortgage=YES',\n",
       " 'region=INNER_CITY',\n",
       " 'region=RURAL',\n",
       " 'region=SUBURBAN',\n",
       " 'region=TOWN',\n",
       " 'savings_acct=NO',\n",
       " 'savings_acct=YES']"
      ]
     },
     "execution_count": 8,
     "metadata": {},
     "output_type": "execute_result"
    }
   ],
   "source": [
    "from sklearn.feature_extraction import DictVectorizer\n",
    "vs_vec = DictVectorizer()\n",
    "vs_matrix = vs_vec.fit_transform(vs_dict).toarray()\n",
    "vs_vec.get_feature_names()"
   ]
  },
  {
   "cell_type": "code",
   "execution_count": 9,
   "metadata": {
    "collapsed": false
   },
   "outputs": [
    {
     "name": "stdout",
     "output_type": "stream",
     "text": [
      "[[    48.       1.       0.       1.       1.       0.       1.       0.   17546.       1.       0.\n",
      "       1.       0.       1.       0.       0.       0.       1.       0. ]\n",
      " [    40.       0.       1.       3.       0.       1.       0.       1.   30085.1      0.       1.\n",
      "       0.       1.       0.       0.       0.       1.       1.       0. ]\n",
      " [    51.       0.       1.       0.       0.       1.       1.       0.   16575.4      0.       1.\n",
      "       1.       0.       1.       0.       0.       0.       0.       1. ]]\n"
     ]
    }
   ],
   "source": [
    "np.set_printoptions(precision=2, linewidth=100, suppress=True)\n",
    "print vs_matrix[0:3]"
   ]
  },
  {
   "cell_type": "code",
   "execution_count": 10,
   "metadata": {
    "collapsed": false
   },
   "outputs": [
    {
     "data": {
      "text/plain": [
       "600"
      ]
     },
     "execution_count": 10,
     "metadata": {},
     "output_type": "execute_result"
    }
   ],
   "source": [
    "len(vs_matrix)"
   ]
  },
  {
   "cell_type": "code",
   "execution_count": 11,
   "metadata": {
    "collapsed": false
   },
   "outputs": [
    {
     "name": "stdout",
     "output_type": "stream",
     "text": [
      "(480L, 19L) (120L, 19L)\n",
      "[[    32.       0.       1.       0.       0.       1.       1.       0.   13267.6      0.       1.\n",
      "       0.       1.       0.       0.       0.       1.       0.       1. ]\n",
      " [    59.       0.       1.       1.       0.       1.       1.       0.   29866.9      1.       0.\n",
      "       1.       0.       1.       0.       0.       0.       1.       0. ]\n",
      " [    61.       1.       0.       3.       0.       1.       0.       1.   41609.5      0.       1.\n",
      "       0.       1.       0.       1.       0.       0.       0.       1. ]]\n"
     ]
    }
   ],
   "source": [
    "from sklearn.cross_validation import train_test_split\n",
    "vs_train, vs_test, vs_target_train, vs_target_test = train_test_split(vs_matrix, vs_target, test_size=0.2, random_state=33)\n",
    "\n",
    "print vs_train.shape, vs_test.shape\n",
    "print vs_test[0:3]"
   ]
  },
  {
   "cell_type": "code",
   "execution_count": 12,
   "metadata": {
    "collapsed": true
   },
   "outputs": [],
   "source": [
    "# End of question a.\n",
    "\n",
    "# Start of question b:\n",
    "# Run scikit-learn's KNN classifier on the test set. Note: in the case of KNN, you must first normalize the data so that\n",
    "# all attributes are in the same scale (normalize so that the values are between 0 and 1). Generate the confusion matrix\n",
    "# (visualize it using Matplotlib), as well as the classification report. Also, computing the average accuracy score.\n",
    "# Experiment with different values of K and the weight parameter for KNN to see if you can improve accuracy (you do not\n",
    "# need to provide the details of all of your experimentation, but provide a short discussion what parameters worked best).\n",
    "from sklearn import preprocessing"
   ]
  },
  {
   "cell_type": "code",
   "execution_count": 13,
   "metadata": {
    "collapsed": false
   },
   "outputs": [
    {
     "data": {
      "text/plain": [
       "array([[ 0.57,  0.  ,  1.  ,  0.67,  0.  ,  1.  ,  1.  ,  0.  ,  0.46,  0.  ,  1.  ,  1.  ,  0.  ,\n",
       "         1.  ,  0.  ,  0.  ,  0.  ,  0.  ,  1.  ],\n",
       "       [ 0.8 ,  1.  ,  0.  ,  0.  ,  1.  ,  0.  ,  1.  ,  0.  ,  0.78,  0.  ,  1.  ,  1.  ,  0.  ,\n",
       "         0.  ,  1.  ,  0.  ,  0.  ,  0.  ,  1.  ],\n",
       "       [ 0.14,  1.  ,  0.  ,  0.  ,  0.  ,  1.  ,  1.  ,  0.  ,  0.16,  0.  ,  1.  ,  1.  ,  0.  ,\n",
       "         1.  ,  0.  ,  0.  ,  0.  ,  0.  ,  1.  ]])"
      ]
     },
     "execution_count": 13,
     "metadata": {},
     "output_type": "execute_result"
    }
   ],
   "source": [
    "min_max_scaler = preprocessing.MinMaxScaler().fit(vs_train)\n",
    "vs_train_norm = min_max_scaler.transform(vs_train)\n",
    "vs_test_norm = min_max_scaler.transform(vs_test)\n",
    "vs_train_norm[0:3]"
   ]
  },
  {
   "cell_type": "code",
   "execution_count": 14,
   "metadata": {
    "collapsed": false
   },
   "outputs": [
    {
     "data": {
      "text/plain": [
       "array([[ 0.29,  0.  ,  1.  ,  0.  ,  0.  ,  1.  ,  1.  ,  0.  ,  0.12,  0.  ,  1.  ,  0.  ,  1.  ,\n",
       "         0.  ,  0.  ,  0.  ,  1.  ,  0.  ,  1.  ],\n",
       "       [ 0.84,  0.  ,  1.  ,  0.33,  0.  ,  1.  ,  1.  ,  0.  ,  0.41,  1.  ,  0.  ,  1.  ,  0.  ,\n",
       "         1.  ,  0.  ,  0.  ,  0.  ,  1.  ,  0.  ],\n",
       "       [ 0.88,  1.  ,  0.  ,  1.  ,  0.  ,  1.  ,  0.  ,  1.  ,  0.62,  0.  ,  1.  ,  0.  ,  1.  ,\n",
       "         0.  ,  1.  ,  0.  ,  0.  ,  0.  ,  1.  ]])"
      ]
     },
     "execution_count": 14,
     "metadata": {},
     "output_type": "execute_result"
    }
   ],
   "source": [
    "vs_test_norm[0:3]"
   ]
  },
  {
   "cell_type": "code",
   "execution_count": 15,
   "metadata": {
    "collapsed": true
   },
   "outputs": [],
   "source": [
    "from sklearn import neighbors, tree, naive_bayes"
   ]
  },
  {
   "cell_type": "code",
   "execution_count": 16,
   "metadata": {
    "collapsed": false
   },
   "outputs": [
    {
     "data": {
      "text/plain": [
       "KNeighborsClassifier(algorithm='auto', leaf_size=30, metric='minkowski',\n",
       "           metric_params=None, n_jobs=1, n_neighbors=5, p=2,\n",
       "           weights='distance')"
      ]
     },
     "execution_count": 16,
     "metadata": {},
     "output_type": "execute_result"
    }
   ],
   "source": [
    "n_neighbors = 5\n",
    "knnclf = neighbors.KNeighborsClassifier(n_neighbors, weights='distance')\n",
    "knnclf.fit(vs_train_norm, vs_target_train)"
   ]
  },
  {
   "cell_type": "code",
   "execution_count": 17,
   "metadata": {
    "collapsed": false
   },
   "outputs": [
    {
     "name": "stdout",
     "output_type": "stream",
     "text": [
      "['YES' 'YES' 'YES' 'NO' 'YES' 'YES' 'YES' 'NO' 'NO' 'YES' 'NO' 'NO' 'YES' 'NO' 'YES' 'NO' 'YES' 'NO'\n",
      " 'YES' 'NO' 'NO' 'YES' 'NO' 'NO' 'YES' 'NO' 'YES' 'YES' 'NO' 'YES' 'NO' 'NO' 'NO' 'YES' 'NO' 'YES'\n",
      " 'NO' 'YES' 'NO' 'NO' 'NO' 'NO' 'YES' 'NO' 'YES' 'NO' 'YES' 'NO' 'NO' 'YES' 'YES' 'YES' 'YES' 'NO'\n",
      " 'YES' 'YES' 'YES' 'YES' 'NO' 'NO' 'YES' 'NO' 'YES' 'YES' 'NO' 'NO' 'NO' 'NO' 'NO' 'YES' 'YES' 'NO'\n",
      " 'YES' 'NO' 'NO' 'NO' 'NO' 'YES' 'YES' 'NO' 'YES' 'YES' 'YES' 'YES' 'NO' 'NO' 'YES' 'NO' 'NO' 'YES'\n",
      " 'NO' 'NO' 'NO' 'NO' 'NO' 'NO' 'NO' 'NO' 'NO' 'NO' 'NO' 'NO' 'NO' 'YES' 'NO' 'NO' 'NO' 'NO' 'YES'\n",
      " 'NO' 'YES' 'NO' 'NO' 'YES' 'NO' 'YES' 'NO' 'NO' 'NO' 'NO']\n"
     ]
    }
   ],
   "source": [
    "knnpreds_test = knnclf.predict(vs_test_norm)\n",
    "print knnpreds_test"
   ]
  },
  {
   "cell_type": "code",
   "execution_count": 18,
   "metadata": {
    "collapsed": true
   },
   "outputs": [],
   "source": [
    "from sklearn.metrics import classification_report"
   ]
  },
  {
   "cell_type": "code",
   "execution_count": 19,
   "metadata": {
    "collapsed": false
   },
   "outputs": [
    {
     "name": "stdout",
     "output_type": "stream",
     "text": [
      "             precision    recall  f1-score   support\n",
      "\n",
      "         NO       0.68      0.73      0.70        66\n",
      "        YES       0.63      0.57      0.60        54\n",
      "\n",
      "avg / total       0.66      0.66      0.66       120\n",
      "\n"
     ]
    }
   ],
   "source": [
    "print(classification_report(vs_target_test, knnpreds_test))"
   ]
  },
  {
   "cell_type": "code",
   "execution_count": 20,
   "metadata": {
    "collapsed": true
   },
   "outputs": [],
   "source": [
    "from sklearn.metrics import confusion_matrix"
   ]
  },
  {
   "cell_type": "code",
   "execution_count": 21,
   "metadata": {
    "collapsed": false
   },
   "outputs": [
    {
     "name": "stdout",
     "output_type": "stream",
     "text": [
      "[[48 18]\n",
      " [23 31]]\n"
     ]
    }
   ],
   "source": [
    "knncm = (confusion_matrix(vs_target_test, knnpreds_test))\n",
    "print knncm"
   ]
  },
  {
   "cell_type": "code",
   "execution_count": 22,
   "metadata": {
    "collapsed": false
   },
   "outputs": [
    {
     "name": "stdout",
     "output_type": "stream",
     "text": [
      "0.658333333333\n"
     ]
    }
   ],
   "source": [
    "print knnclf.score(vs_test_norm, vs_target_test)"
   ]
  },
  {
   "cell_type": "code",
   "execution_count": 23,
   "metadata": {
    "collapsed": false
   },
   "outputs": [
    {
     "name": "stdout",
     "output_type": "stream",
     "text": [
      "1.0\n"
     ]
    }
   ],
   "source": [
    "print knnclf.score(vs_train_norm, vs_target_train)"
   ]
  },
  {
   "cell_type": "code",
   "execution_count": 24,
   "metadata": {
    "collapsed": false
   },
   "outputs": [
    {
     "data": {
      "image/png": "[encoded data removed]",
      "text/plain": [
       "<matplotlib.figure.Figure at 0x90a5978>"
      ]
     },
     "metadata": {},
     "output_type": "display_data"
    }
   ],
   "source": [
    "import matplotlib.pyplot as plt\n",
    "%matplotlib inline\n",
    "plt.matshow(knncm)\n",
    "plt.title('Confusion Matrix of KNN')\n",
    "plt.colorbar()\n",
    "plt.ylabel('Actual')\n",
    "plt.xlabel('Predicted')\n",
    "plt.show()"
   ]
  },
  {
   "cell_type": "code",
   "execution_count": 25,
   "metadata": {
    "collapsed": false
   },
   "outputs": [],
   "source": [
    "def calcScore(vs_train_norm, vs_test_norm, vs_target_train, vs_target_test, k, w):\n",
    "    knnclf = neighbors.KNeighborsClassifier(k, weights = w)\n",
    "    knnclf.fit(vs_train_norm, vs_target_train)\n",
    "    return knnclf.score(vs_test_norm, vs_target_test)"
   ]
  },
  {
   "cell_type": "code",
   "execution_count": 26,
   "metadata": {
    "collapsed": false
   },
   "outputs": [
    {
     "name": "stdout",
     "output_type": "stream",
     "text": [
      "17 uniform 0.7\n"
     ]
    }
   ],
   "source": [
    "bestK = 0\n",
    "weight = ''\n",
    "bestScore = 0.0\n",
    "for k in range(1, 25):\n",
    "    for w in ['uniform', 'distance']:\n",
    "        score = calcScore(vs_train_norm, vs_test_norm, vs_target_train, vs_target_test, k, w)\n",
    "        if score > bestScore:\n",
    "            bestScore = score\n",
    "            bestK = k\n",
    "            weight = w\n",
    "print bestK, weight, bestScore"
   ]
  },
  {
   "cell_type": "code",
   "execution_count": 27,
   "metadata": {
    "collapsed": false
   },
   "outputs": [
    {
     "name": "stdout",
     "output_type": "stream",
     "text": [
      "['NO' 'YES' 'NO' 'YES' 'YES' 'NO' 'YES' 'NO' 'YES' 'NO' 'YES' 'NO' 'NO' 'NO' 'NO' 'NO' 'NO' 'NO'\n",
      " 'YES' 'NO' 'YES' 'NO' 'NO' 'NO' 'YES' 'NO' 'NO' 'YES' 'YES' 'YES' 'NO' 'NO' 'NO' 'YES' 'YES' 'YES'\n",
      " 'NO' 'YES' 'NO' 'YES' 'YES' 'NO' 'NO' 'NO' 'YES' 'NO' 'NO' 'YES' 'NO' 'YES' 'YES' 'YES' 'YES' 'YES'\n",
      " 'NO' 'YES' 'YES' 'YES' 'NO' 'NO' 'YES' 'NO' 'YES' 'YES' 'YES' 'NO' 'NO' 'NO' 'YES' 'NO' 'NO' 'NO'\n",
      " 'NO' 'YES' 'NO' 'NO' 'NO' 'NO' 'YES' 'NO' 'NO' 'YES' 'YES' 'NO' 'NO' 'YES' 'NO' 'NO' 'YES' 'YES'\n",
      " 'NO' 'NO' 'NO' 'NO' 'YES' 'NO' 'NO' 'NO' 'NO' 'NO' 'NO' 'NO' 'YES' 'YES' 'NO' 'YES' 'YES' 'NO'\n",
      " 'YES' 'NO' 'YES' 'NO' 'NO' 'NO' 'NO' 'NO' 'NO' 'NO' 'NO' 'NO']\n"
     ]
    }
   ],
   "source": [
    "# As we can see from above result, best accuracy achieved when we use neigbours = 17 and weight = 'uniform'.\n",
    "# End of question b.\n",
    "\n",
    "# Start of question c:\n",
    "# Repeat the classification using scikit-learn's decision tree classifier (using the default parameters) and the\n",
    "# naive Bayes (Gaussian) classifier. As above, generate the confusion matrix, classification report, and average\n",
    "# accuracy score for each classifier. For each model, compare the average accuracry scores on the test and the\n",
    "# training data sets. What does the comparison tell you in terms of bias-variance trade-off?\n",
    "treeclf = tree.DecisionTreeClassifier(criterion='entropy', min_samples_split=3)\n",
    "treeclf = treeclf.fit(vs_train, vs_target_train)\n",
    "treepreds_test = treeclf.predict(vs_test)\n",
    "print treepreds_test"
   ]
  },
  {
   "cell_type": "code",
   "execution_count": 28,
   "metadata": {
    "collapsed": false
   },
   "outputs": [
    {
     "name": "stdout",
     "output_type": "stream",
     "text": [
      "0.775\n"
     ]
    }
   ],
   "source": [
    "print treeclf.score(vs_test, vs_target_test)"
   ]
  },
  {
   "cell_type": "code",
   "execution_count": 29,
   "metadata": {
    "collapsed": false
   },
   "outputs": [
    {
     "name": "stdout",
     "output_type": "stream",
     "text": [
      "0.985416666667\n"
     ]
    }
   ],
   "source": [
    "print treeclf.score(vs_train, vs_target_train)"
   ]
  },
  {
   "cell_type": "code",
   "execution_count": 30,
   "metadata": {
    "collapsed": false
   },
   "outputs": [
    {
     "name": "stdout",
     "output_type": "stream",
     "text": [
      "             precision    recall  f1-score   support\n",
      "\n",
      "         NO       0.77      0.85      0.81        66\n",
      "        YES       0.79      0.69      0.73        54\n",
      "\n",
      "avg / total       0.78      0.78      0.77       120\n",
      "\n"
     ]
    }
   ],
   "source": [
    "print(classification_report(vs_target_test, treepreds_test))"
   ]
  },
  {
   "cell_type": "code",
   "execution_count": 31,
   "metadata": {
    "collapsed": false
   },
   "outputs": [
    {
     "name": "stdout",
     "output_type": "stream",
     "text": [
      "[[56 10]\n",
      " [17 37]]\n"
     ]
    }
   ],
   "source": [
    "treecm = confusion_matrix(vs_target_test, treepreds_test)\n",
    "print treecm"
   ]
  },
  {
   "cell_type": "code",
   "execution_count": 32,
   "metadata": {
    "collapsed": false
   },
   "outputs": [
    {
     "data": {
      "image/png": "[encoded data removed]",
      "text/plain": [
       "<matplotlib.figure.Figure at 0x7575c18>"
      ]
     },
     "metadata": {},
     "output_type": "display_data"
    }
   ],
   "source": [
    "plt.matshow(treecm)\n",
    "plt.title('Confusion Matrix of Dicision Tree')\n",
    "plt.colorbar()\n",
    "plt.ylabel('Actual')\n",
    "plt.xlabel('Predicted')\n",
    "plt.show()"
   ]
  },
  {
   "cell_type": "code",
   "execution_count": 33,
   "metadata": {
    "collapsed": false
   },
   "outputs": [
    {
     "name": "stdout",
     "output_type": "stream",
     "text": [
      "['NO' 'YES' 'NO' 'YES' 'YES' 'NO' 'NO' 'NO' 'NO' 'YES' 'NO' 'YES' 'NO' 'NO' 'NO' 'NO' 'YES' 'NO'\n",
      " 'YES' 'NO' 'YES' 'YES' 'NO' 'NO' 'NO' 'NO' 'YES' 'YES' 'NO' 'YES' 'YES' 'NO' 'NO' 'NO' 'NO' 'NO'\n",
      " 'YES' 'YES' 'NO' 'NO' 'NO' 'NO' 'YES' 'NO' 'YES' 'NO' 'NO' 'NO' 'NO' 'NO' 'YES' 'YES' 'NO' 'NO'\n",
      " 'YES' 'YES' 'YES' 'NO' 'NO' 'NO' 'YES' 'NO' 'YES' 'NO' 'NO' 'NO' 'NO' 'NO' 'NO' 'YES' 'NO' 'NO'\n",
      " 'NO' 'NO' 'NO' 'NO' 'NO' 'YES' 'YES' 'NO' 'NO' 'YES' 'NO' 'NO' 'YES' 'NO' 'NO' 'NO' 'YES' 'NO' 'NO'\n",
      " 'YES' 'NO' 'NO' 'YES' 'NO' 'NO' 'YES' 'NO' 'NO' 'NO' 'YES' 'NO' 'YES' 'NO' 'NO' 'YES' 'NO' 'YES'\n",
      " 'NO' 'NO' 'NO' 'YES' 'YES' 'NO' 'NO' 'NO' 'NO' 'NO' 'NO']\n"
     ]
    }
   ],
   "source": [
    "nbclf = naive_bayes.GaussianNB()\n",
    "nbclf = nbclf.fit(vs_train, vs_target_train)\n",
    "nbpreds_test = nbclf.predict(vs_test)\n",
    "print nbpreds_test"
   ]
  },
  {
   "cell_type": "code",
   "execution_count": 34,
   "metadata": {
    "collapsed": false
   },
   "outputs": [
    {
     "name": "stdout",
     "output_type": "stream",
     "text": [
      "0.65625\n"
     ]
    }
   ],
   "source": [
    "print nbclf.score(vs_train, vs_target_train)"
   ]
  },
  {
   "cell_type": "code",
   "execution_count": 35,
   "metadata": {
    "collapsed": false
   },
   "outputs": [
    {
     "name": "stdout",
     "output_type": "stream",
     "text": [
      "0.591666666667\n"
     ]
    }
   ],
   "source": [
    "print nbclf.score(vs_test, vs_target_test)"
   ]
  },
  {
   "cell_type": "code",
   "execution_count": 36,
   "metadata": {
    "collapsed": false
   },
   "outputs": [
    {
     "name": "stdout",
     "output_type": "stream",
     "text": [
      "             precision    recall  f1-score   support\n",
      "\n",
      "         NO       0.60      0.74      0.67        66\n",
      "        YES       0.56      0.41      0.47        54\n",
      "\n",
      "avg / total       0.59      0.59      0.58       120\n",
      "\n"
     ]
    }
   ],
   "source": [
    "print(classification_report(vs_target_test, nbpreds_test))"
   ]
  },
  {
   "cell_type": "code",
   "execution_count": 37,
   "metadata": {
    "collapsed": false
   },
   "outputs": [
    {
     "name": "stdout",
     "output_type": "stream",
     "text": [
      "[[49 17]\n",
      " [32 22]]\n"
     ]
    }
   ],
   "source": [
    "nbcm = (confusion_matrix(vs_target_test, nbpreds_test))\n",
    "print nbcm"
   ]
  },
  {
   "cell_type": "code",
   "execution_count": 38,
   "metadata": {
    "collapsed": false
   },
   "outputs": [
    {
     "data": {
      "text/plain": [
       "<matplotlib.text.Text at 0x9da3668>"
      ]
     },
     "execution_count": 38,
     "metadata": {},
     "output_type": "execute_result"
    },
    {
     "data": {
      "image/png": "[encoded data removed]",
      "text/plain": [
       "<matplotlib.figure.Figure at 0x9da3780>"
      ]
     },
     "metadata": {},
     "output_type": "display_data"
    }
   ],
   "source": [
    "plt.matshow(nbcm)\n",
    "plt.title('Confusion Matrix of Naive Bayes')\n",
    "plt.colorbar()\n",
    "plt.ylabel('Actual')\n",
    "plt.xlabel('Predicted')"
   ]
  },
  {
   "cell_type": "code",
   "execution_count": 41,
   "metadata": {
    "collapsed": true
   },
   "outputs": [],
   "source": [
    "# As we can see from above results, the decision tree classification has the best accuracy score.\n",
    "# End of question c.\n",
    "\n",
    "# Start of question d:\n",
    "# Discuss your observations based on the above experiments.\n",
    "\n",
    "# Comparing three classifiers: kNN, decision tree and naive Bayes,\n",
    "# As we can see from above results, the decision tree classification has the best accuracy score.\n",
    "\n",
    "# Overfitting occurs when a statistical model or machine learning algorithm captures the noise of the data.\n",
    "# Intuitively, overfitting occurs when the model or the algorithm fits the data too well. Specifically,\n",
    "# overfitting occurs if the model or algorithm shows low bias but high variance.\n",
    "# Underfitting occurs when a statistical model or machine learning algorithm cannot capture the underlying\n",
    "# trend of the data. Intuitively, underfitting occurs when the model or the algorithm does not fit the data\n",
    "# well enough.  Specifically, underfitting occurs if the model or algorithm shows low variance but high bias.\n",
    "\n",
    "# For kNN the best k number is 17 with 'uniform' weight, accuracy is 0.7.\n",
    "# The accuracy on train data when k = 5 is 0.658, and on train data the accuracy is 1.0,\n",
    "# so the model seems overfitting (low bias but high variance).\n",
    "\n",
    "# As of decision tree, the average accuracy is the best among three classifiers, the accuracy on\n",
    "# train data is 0.985, and the accuracy on test data is 0.775, also the model is a little overfitting,\n",
    "# but not as high as kNN (low bias but high variance).\n",
    "\n",
    "# About Naive Bayes, the accuracy on train data is 0.656 and for test data is 0.592, \n",
    "# both accuracies are not very high and so it seems underfitting (high bias but low variance).\n",
    "\n",
    "# End of question d."
   ]
  },
  {
   "cell_type": "code",
   "execution_count": null,
   "metadata": {
    "collapsed": true
   },
   "outputs": [],
   "source": []
  }
 ],
 "metadata": {
  "kernelspec": {
   "display_name": "Python 2",
   "language": "python",
   "name": "python2"
  },
  "language_info": {
   "codemirror_mode": {
    "name": "ipython",
    "version": 2
   },
   "file_extension": ".py",
   "mimetype": "text/x-python",
   "name": "python",
   "nbconvert_exporter": "python",
   "pygments_lexer": "ipython2",
   "version": "2.7.11"
  }
 },
 "nbformat": 4,
 "nbformat_minor": 0
}
